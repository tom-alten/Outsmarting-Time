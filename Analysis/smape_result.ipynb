{
 "cells": [
  {
   "cell_type": "code",
   "execution_count": 28,
   "metadata": {},
   "outputs": [],
   "source": [
    "import pandas as pd\n",
    "import numpy as np"
   ]
  },
  {
   "cell_type": "code",
   "execution_count": 43,
   "metadata": {},
   "outputs": [],
   "source": [
    "results_df = pd.read_csv('/Users/kristianertresvag/Documents/Handelshøyskolen BI/Master/4. semester/Master Thesis/Master Thesis/Analysis/results.csv')\n"
   ]
  },
  {
   "cell_type": "markdown",
   "metadata": {},
   "source": [
    "## Average Symmetric MAPE (sMAPE): All Data"
   ]
  },
  {
   "cell_type": "code",
   "execution_count": 95,
   "metadata": {},
   "outputs": [],
   "source": [
    "import pandas as pd\n",
    "import numpy as np\n",
    "\n",
    "# Function to calculate sMAPE\n",
    "def calculate_smape(forecast, actual):\n",
    "    numerator = np.abs(forecast - actual)\n",
    "    denominator = (np.abs(actual) + np.abs(forecast)) / 2\n",
    "    denominator = np.where(denominator == 0, 0.001, denominator)\n",
    "    smape_elements = 100 * (numerator / denominator)\n",
    "    smape = smape_elements.sum() / len(smape_elements)  \n",
    "    return round(smape, 2)\n",
    "\n",
    "forecast_cols = [col for col in results_df.columns if col not in ['Unnamed: 0', 'Series', 'Date', 'ForecastPeriod', 'Category', 'NF', 'Actual']]\n",
    "\n",
    "smape_values = pd.DataFrame(columns=['Method', 'ForecastPeriod', 'sMAPE'])\n",
    "\n",
    "results = []\n",
    "for method in forecast_cols:\n",
    "    for period in sorted(results_df['ForecastPeriod'].unique()):\n",
    "        actual_values = results_df[results_df['ForecastPeriod'] == period]['Actual'].values\n",
    "        forecast_values = results_df[results_df['ForecastPeriod'] == period][method].values\n",
    "        smape = calculate_smape(forecast_values, actual_values)\n",
    "        results.append({'Method': method, 'ForecastPeriod': period, 'sMAPE': smape})\n",
    "\n",
    "smape_values = pd.DataFrame(results)\n",
    "smape_pivot_table = smape_values.pivot(index='Method', columns='ForecastPeriod', values='sMAPE')\n",
    "\n",
    "for col_range in [(1, 4), (1, 6), (1, 8), (1, 12), (1, 15), (1, 18)]:\n",
    "    cols = [col for col in range(col_range[0], col_range[1] + 1)]\n",
    "    col_name = f\"Avg {col_range[0]}-{col_range[1]}\"\n",
    "    smape_pivot_table[col_name] = round(smape_pivot_table[cols].mean(axis=1), 2)\n",
    "\n",
    "\n",
    "unique_series_count = {method: results_df.groupby(method)['Series'].nunique() for method in forecast_cols}\n",
    "\n",
    "smape_pivot_table['#obs'] = np.max(results_df['Series'])\n",
    "\n",
    "custom_order = [\n",
    "    'NAIVE2',\n",
    "    'SINGLE',\n",
    "    'HOLT',\n",
    "    'DAMPEN',\n",
    "    'WINTER',\n",
    "    'COMB S-H-D',\n",
    "    'B-J auto',\n",
    "    'AutoBox1',\n",
    "    'AutoBox2',\n",
    "    'AutoBox3',\n",
    "    'ROBUST-Trend',\n",
    "    'ARARMA',\n",
    "    'Auto-ANN',\n",
    "    'Flors-Pearc1',\n",
    "    'Flors-Pearc2',\n",
    "    'PP-Autocast',\n",
    "    'ForecastPro',\n",
    "    'SMARTFCS',\n",
    "    'THETAsm',\n",
    "    'THETA',\n",
    "    'RBF',\n",
    "    'ForcX',\n",
    "    'Chronos',\n",
    "    'TimeGPT',\n",
    "    'Moirai'\n",
    "]\n",
    "\n",
    "smape_pivot_table = smape_pivot_table.reindex(custom_order)\n",
    "\n",
    "\n",
    "smape_pivot_table.to_csv('smape_table.csv')"
   ]
  },
  {
   "cell_type": "markdown",
   "metadata": {},
   "source": [
    "## Comparison of various methods with Naive2 as the benchmark"
   ]
  },
  {
   "cell_type": "code",
   "execution_count": 96,
   "metadata": {},
   "outputs": [],
   "source": [
    "var_methods = [\n",
    "            'THETA',\n",
    "            'ForecastPro',\n",
    "            'ForcX',\n",
    "            'COMB S-H-D',\n",
    "            'DAMPEN',\n",
    "            'RBF',\n",
    "            'TimeGPT',\n",
    "            'Chronos',\n",
    "            'Moirai'\n",
    "]\n",
    "\n",
    "selected_columns = [1, 'Avg 1-4', 'Avg 1-6', 'Avg 1-12', 'Avg 1-18']\n",
    "\n",
    "naive2_scores = smape_pivot_table.loc['NAIVE2']\n",
    "\n",
    "# Calculate differences: sMAPE(NAIVE2) - sMAPE(selected method)\n",
    "difference_from_naive2 = naive2_scores - smape_pivot_table\n",
    "\n",
    "filtered_df = difference_from_naive2.loc[var_methods, selected_columns]\n",
    "sorted_df = filtered_df.sort_values(by=[1, 'Avg 1-4', 'Avg 1-6'], ascending=[False, False, False])\n",
    "\n",
    "sorted_df.to_csv('smape_comparison.csv')"
   ]
  }
 ],
 "metadata": {
  "kernelspec": {
   "display_name": "base",
   "language": "python",
   "name": "python3"
  },
  "language_info": {
   "codemirror_mode": {
    "name": "ipython",
    "version": 3
   },
   "file_extension": ".py",
   "mimetype": "text/x-python",
   "name": "python",
   "nbconvert_exporter": "python",
   "pygments_lexer": "ipython3",
   "version": "3.9.12"
  }
 },
 "nbformat": 4,
 "nbformat_minor": 2
}
