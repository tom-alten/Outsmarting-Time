{
 "cells": [
  {
   "cell_type": "markdown",
   "metadata": {},
   "source": [
    "### Config"
   ]
  },
  {
   "cell_type": "code",
   "execution_count": 1,
   "metadata": {},
   "outputs": [],
   "source": [
    "import matplotlib.pyplot as plt\n",
    "import numpy as np\n",
    "import pandas as pd\n",
    "from chronos_mlx import ChronosPipeline\n",
    "pd.set_option('display.max_columns', None)"
   ]
  },
  {
   "cell_type": "code",
   "execution_count": 2,
   "metadata": {},
   "outputs": [],
   "source": [
    "quart = pd.read_parquet('/Users/tomaltenborg/Documents/Master/Master thesis/Notebooks/M-Competitions/M3-Competition/Quarter/M3_quarter_processed.parquet')\n",
    "quart_train = quart.loc[quart['Series'] == 646]\n",
    "# quart = quart.loc[(quart['Series'] == 646) | (quart['Series'] == 647) | (quart['Series'] == 648)]"
   ]
  },
  {
   "cell_type": "code",
   "execution_count": 4,
   "metadata": {},
   "outputs": [
    {
     "data": {
      "text/html": [
       "<div>\n",
       "<style scoped>\n",
       "    .dataframe tbody tr th:only-of-type {\n",
       "        vertical-align: middle;\n",
       "    }\n",
       "\n",
       "    .dataframe tbody tr th {\n",
       "        vertical-align: top;\n",
       "    }\n",
       "\n",
       "    .dataframe thead th {\n",
       "        text-align: right;\n",
       "    }\n",
       "</style>\n",
       "<table border=\"1\" class=\"dataframe\">\n",
       "  <thead>\n",
       "    <tr style=\"text-align: right;\">\n",
       "      <th></th>\n",
       "      <th>Series</th>\n",
       "      <th>N</th>\n",
       "      <th>NF</th>\n",
       "      <th>Category</th>\n",
       "      <th>Measurement</th>\n",
       "      <th>Value</th>\n",
       "      <th>Date</th>\n",
       "    </tr>\n",
       "  </thead>\n",
       "  <tbody>\n",
       "    <tr>\n",
       "      <th>0</th>\n",
       "      <td>646</td>\n",
       "      <td>44</td>\n",
       "      <td>8</td>\n",
       "      <td>MICRO</td>\n",
       "      <td>1</td>\n",
       "      <td>3142.63</td>\n",
       "      <td>1984-01-01</td>\n",
       "    </tr>\n",
       "    <tr>\n",
       "      <th>1</th>\n",
       "      <td>646</td>\n",
       "      <td>44</td>\n",
       "      <td>8</td>\n",
       "      <td>MICRO</td>\n",
       "      <td>2</td>\n",
       "      <td>3190.75</td>\n",
       "      <td>1984-04-01</td>\n",
       "    </tr>\n",
       "    <tr>\n",
       "      <th>2</th>\n",
       "      <td>646</td>\n",
       "      <td>44</td>\n",
       "      <td>8</td>\n",
       "      <td>MICRO</td>\n",
       "      <td>3</td>\n",
       "      <td>3178.69</td>\n",
       "      <td>1984-07-01</td>\n",
       "    </tr>\n",
       "    <tr>\n",
       "      <th>3</th>\n",
       "      <td>646</td>\n",
       "      <td>44</td>\n",
       "      <td>8</td>\n",
       "      <td>MICRO</td>\n",
       "      <td>4</td>\n",
       "      <td>3170.94</td>\n",
       "      <td>1984-10-01</td>\n",
       "    </tr>\n",
       "    <tr>\n",
       "      <th>4</th>\n",
       "      <td>646</td>\n",
       "      <td>44</td>\n",
       "      <td>8</td>\n",
       "      <td>MICRO</td>\n",
       "      <td>5</td>\n",
       "      <td>3124.38</td>\n",
       "      <td>1985-01-01</td>\n",
       "    </tr>\n",
       "  </tbody>\n",
       "</table>\n",
       "</div>"
      ],
      "text/plain": [
       "   Series   N  NF Category  Measurement    Value       Date\n",
       "0     646  44   8    MICRO            1  3142.63 1984-01-01\n",
       "1     646  44   8    MICRO            2  3190.75 1984-04-01\n",
       "2     646  44   8    MICRO            3  3178.69 1984-07-01\n",
       "3     646  44   8    MICRO            4  3170.94 1984-10-01\n",
       "4     646  44   8    MICRO            5  3124.38 1985-01-01"
      ]
     },
     "execution_count": 4,
     "metadata": {},
     "output_type": "execute_result"
    }
   ],
   "source": [
    "quart_train.head()"
   ]
  },
  {
   "cell_type": "markdown",
   "metadata": {},
   "source": [
    "### Test"
   ]
  },
  {
   "cell_type": "code",
   "execution_count": 3,
   "metadata": {},
   "outputs": [
    {
     "data": {
      "image/png": "[encoded data removed]",
      "text/plain": [
       "<Figure size 864x576 with 1 Axes>"
      ]
     },
     "metadata": {
      "needs_background": "light"
     },
     "output_type": "display_data"
    }
   ],
   "source": [
    "pipeline = ChronosPipeline.from_pretrained(\n",
    "    \"amazon/chronos-t5-large\",\n",
    "    dtype=\"bfloat16\",\n",
    ")\n",
    "\n",
    "context = quart_train[\"Value\"].values\n",
    "prediction_length = 10\n",
    "forecast = pipeline.predict(\n",
    "    context,\n",
    "    prediction_length,\n",
    "    num_samples=30,\n",
    "    temperature=1.0,\n",
    "    top_k=50,\n",
    "    top_p=1.0\n",
    ") # forecast shape: [num_series, num_samples, prediction_length]\n",
    "\n",
    "# visualize the forecast\n",
    "forecast_index = range(len(quart_train), len(quart_train) + prediction_length)\n",
    "low, median, high = np.quantile(forecast[0], [0.1, 0.5, 0.9], axis=0)\n",
    "\n",
    "plt.figure(figsize=(12, 8))\n",
    "plt.plot(quart_train[\"Value\"], color=\"royalblue\", label=\"historical data\")\n",
    "plt.plot(forecast_index, median, color=\"tomato\", label=\"median forecast\")\n",
    "plt.fill_between(forecast_index, low, high, color=\"tomato\", alpha=0.3, label=\"80% prediction interval\")\n",
    "plt.legend()\n",
    "plt.grid()\n",
    "plt.show()"
   ]
  },
  {
   "cell_type": "markdown",
   "metadata": {},
   "source": [
    "## Loop and Produce Forecasts for All Quarterly Series"
   ]
  },
  {
   "cell_type": "code",
   "execution_count": 4,
   "metadata": {},
   "outputs": [
    {
     "name": "stderr",
     "output_type": "stream",
     "text": [
      "<ipython-input-4-807aafd13546>:31: FutureWarning: 'Q' is deprecated and will be removed in a future version, please use 'QE' instead.\n",
      "  forecast_dates = pd.date_range(start=last_training_date, periods=NF+1, freq='Q')[1:]  # Skip the first since it's the last training date\n"
     ]
    },
    {
     "name": "stdout",
     "output_type": "stream",
     "text": [
      "Forecasting completed for all series.\n"
     ]
    }
   ],
   "source": [
    "pipeline = ChronosPipeline.from_pretrained(\n",
    "    \"amazon/chronos-t5-large\",\n",
    "    dtype=\"bfloat16\",\n",
    ")\n",
    "\n",
    "unique_series = quart['Series'].unique()\n",
    "\n",
    "forecasts = {}\n",
    "\n",
    "for series_id in unique_series:\n",
    "    # Filter the dataframe for the current series\n",
    "    series_data = quart[quart['Series'] == series_id]\n",
    "    \n",
    "    # Ensure the data is sorted by date\n",
    "    series_data = series_data.sort_values('Date')\n",
    "    \n",
    "    # Get the number of observations to use for forecasting\n",
    "    N = series_data['N'].iloc[0]\n",
    "    NF = series_data['NF'].iloc[0]\n",
    "    \n",
    "    # Get the date of the last observation used for training\n",
    "    last_training_date = series_data['Date'].iloc[N-NF-1]  # -1 because iloc is 0-based\n",
    "\n",
    "    # Prepare the input data for the model\n",
    "    training_data = series_data['Value'].iloc[:N-NF].values  # Exclude the last NF values\n",
    "    \n",
    "    # Calculate forecast dates assuming quarterly data\n",
    "    forecast_dates = pd.date_range(start=last_training_date, periods=NF+1, freq='Q')[1:]  # Skip the first since it's the last training date\n",
    "    \n",
    "    # Predict the next NF values\n",
    "    try:\n",
    "        model_forecasts = pipeline.predict(\n",
    "            context=training_data,\n",
    "            prediction_length=NF,\n",
    "            num_samples=N-NF,\n",
    "            temperature=1.0,\n",
    "            top_k=50,\n",
    "            top_p=1.0\n",
    "        )#.squeeze(0).squeeze(0).numpy()  # Remove batch and sample dimensions for simplicity\n",
    "    except Exception as e:\n",
    "        print(f\"Failed to predict for series {series_id} with error: {e}\")\n",
    "        continue\n",
    "    \n",
    "    # Quantiles for uncertainty bounds\n",
    "    low, median, high = np.quantile(model_forecasts[0], [0.1, 0.5, 0.9], axis=0)\n",
    "    forecasts[series_id] = {\n",
    "        'Date': forecast_dates,\n",
    "        'low': low,\n",
    "        'median': median,\n",
    "        'high': high\n",
    "    }\n",
    "\n",
    "# Convert forecasts dictionary to a DataFrame for easier manipulation\n",
    "forecast_df = pd.DataFrame()\n",
    "for series_id, data in forecasts.items():\n",
    "    df_temp = pd.DataFrame({\n",
    "        'Date': data['Date'],\n",
    "        'Series_ID': series_id,\n",
    "        'Low': data['low'],\n",
    "        'Median': data['median'],\n",
    "        'High': data['high']\n",
    "    })\n",
    "    forecast_df = pd.concat([forecast_df, df_temp], ignore_index=True)\n",
    "\n",
    "# forecast_df.set_index(['Date', 'Series_ID'], inplace=True)\n",
    "print('Forecasting completed for all series.')"
   ]
  },
  {
   "cell_type": "code",
   "execution_count": 8,
   "metadata": {},
   "outputs": [
    {
     "name": "stdout",
     "output_type": "stream",
     "text": [
      "<class 'pandas.core.frame.DataFrame'>\n",
      "RangeIndex: 6048 entries, 0 to 6047\n",
      "Data columns (total 5 columns):\n",
      " #   Column     Non-Null Count  Dtype         \n",
      "---  ------     --------------  -----         \n",
      " 0   Date       6048 non-null   datetime64[ns]\n",
      " 1   Series_ID  6048 non-null   int64         \n",
      " 2   Low        6048 non-null   float64       \n",
      " 3   Median     6048 non-null   float64       \n",
      " 4   High       6048 non-null   float64       \n",
      "dtypes: datetime64[ns](1), float64(3), int64(1)\n",
      "memory usage: 236.4 KB\n"
     ]
    }
   ],
   "source": [
    "forecast_df.info()"
   ]
  },
  {
   "cell_type": "markdown",
   "metadata": {},
   "source": [
    "Slight issue. The datetime values here are a bit different from that in the processed parquet file, still the same quarter, but at the end of the month instead of the start. Should hardly matter. "
   ]
  },
  {
   "cell_type": "markdown",
   "metadata": {},
   "source": [
    "Need to decide how to use the low, median and high. Natural to just use median. For now save all of it."
   ]
  },
  {
   "cell_type": "code",
   "execution_count": 10,
   "metadata": {},
   "outputs": [],
   "source": [
    "forecast_df.to_parquet('M3_Chronos_quarter_forecast.parquet', index=False,  compression='gzip', engine='pyarrow')"
   ]
  }
 ],
 "metadata": {
  "kernelspec": {
   "display_name": "Python 3",
   "language": "python",
   "name": "python3"
  },
  "language_info": {
   "codemirror_mode": {
    "name": "ipython",
    "version": 3
   },
   "file_extension": ".py",
   "mimetype": "text/x-python",
   "name": "python",
   "nbconvert_exporter": "python",
   "pygments_lexer": "ipython3",
   "version": "3.11.4"
  }
 },
 "nbformat": 4,
 "nbformat_minor": 2
}
