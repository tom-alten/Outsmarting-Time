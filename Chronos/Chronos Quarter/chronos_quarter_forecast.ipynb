{
 "cells": [
  {
   "cell_type": "markdown",
   "metadata": {},
   "source": [
    "### Config"
   ]
  },
  {
   "cell_type": "code",
   "execution_count": 1,
   "metadata": {},
   "outputs": [],
   "source": [
    "import matplotlib.pyplot as plt\n",
    "import numpy as np\n",
    "import pandas as pd\n",
    "from chronos_mlx import ChronosPipeline\n",
    "pd.set_option('display.max_columns', None)"
   ]
  },
  {
   "cell_type": "code",
   "execution_count": 2,
   "metadata": {},
   "outputs": [],
   "source": [
    "quart = pd.read_parquet('/Users/tomaltenborg/Documents/Master/Master thesis/Notebooks/M3 Data/M3_quarter_processed.parquet')"
   ]
  },
  {
   "cell_type": "markdown",
   "metadata": {},
   "source": [
    "## Loop and Produce Forecasts for All Quarterly Series"
   ]
  },
  {
   "cell_type": "code",
   "execution_count": 3,
   "metadata": {},
   "outputs": [
    {
     "name": "stdout",
     "output_type": "stream",
     "text": [
      "100 series forecasted\n",
      "100 series forecasted\n",
      "100 series forecasted\n",
      "100 series forecasted\n",
      "100 series forecasted\n",
      "100 series forecasted\n",
      "100 series forecasted\n",
      "Forecasting completed for all series.\n"
     ]
    }
   ],
   "source": [
    "pipeline = ChronosPipeline.from_pretrained(\n",
    "    \"amazon/chronos-t5-base\",\n",
    "    dtype=\"bfloat16\",\n",
    ")\n",
    "\n",
    "unique_series = quart['Series'].unique()\n",
    "\n",
    "forecasts = {}\n",
    "\n",
    "counter = 0\n",
    "\n",
    "for series_id in unique_series:\n",
    "\n",
    "    series_data = quart[quart['Series'] == series_id]\n",
    "    \n",
    "    # Ensure the data is sorted by date\n",
    "    series_data = series_data.sort_values('Date')\n",
    "    \n",
    "    # Get the number of observations to use for forecasting\n",
    "    N = series_data['N'].iloc[0]\n",
    "    NF = series_data['NF'].iloc[0]\n",
    "    \n",
    "    # Get the date of the last observation used for training\n",
    "    last_training_date = series_data['Date'].iloc[N-NF-1] \n",
    "\n",
    "    # Prepare the input data for the model\n",
    "    training_data = series_data['Value'].iloc[:N-NF].values  # Exclude the last NF values\n",
    "    \n",
    "    # Calculate forecast dates assuming quarterly data\n",
    "    forecast_dates = pd.date_range(start=last_training_date, periods=NF+1, freq='Q')[1:]  # Skip the first since it's the last training date\n",
    "    \n",
    "    # Predict the next NF values\n",
    "    try:\n",
    "        model_forecasts = pipeline.predict(\n",
    "            context=training_data,\n",
    "            prediction_length=NF,\n",
    "            num_samples=N-NF\n",
    "        )\n",
    "    except Exception as e:\n",
    "        print(f\"Failed to predict for series {series_id} with error: {e}\")\n",
    "        continue\n",
    "    counter += 1\n",
    "    if counter > 100:\n",
    "        print('100 series forecasted')\n",
    "        counter = 0\n",
    "    # Quantiles for uncertainty bounds\n",
    "    low, median, high = np.quantile(model_forecasts[0], [0.1, 0.5, 0.9], axis=0)\n",
    "    forecasts[series_id] = {\n",
    "        'Date': forecast_dates,\n",
    "        'low': low,\n",
    "        'median': median,\n",
    "        'high': high\n",
    "    }\n",
    "\n",
    "# Convert forecasts dictionary to a DataFrame for easier manipulation\n",
    "forecast_df = pd.DataFrame()\n",
    "for series_id, data in forecasts.items():\n",
    "    df_temp = pd.DataFrame({\n",
    "        'Date': data['Date'],\n",
    "        'Series_ID': series_id,\n",
    "        'Low': data['low'],\n",
    "        'Median': data['median'],\n",
    "        'High': data['high']\n",
    "    })\n",
    "    forecast_df = pd.concat([forecast_df, df_temp], ignore_index=True)\n",
    "\n",
    "# forecast_df.set_index(['Date', 'Series_ID'], inplace=True)\n",
    "print('Forecasting completed for all series.')"
   ]
  },
  {
   "cell_type": "code",
   "execution_count": 4,
   "metadata": {},
   "outputs": [
    {
     "data": {
      "text/html": [
       "<div>\n",
       "<style scoped>\n",
       "    .dataframe tbody tr th:only-of-type {\n",
       "        vertical-align: middle;\n",
       "    }\n",
       "\n",
       "    .dataframe tbody tr th {\n",
       "        vertical-align: top;\n",
       "    }\n",
       "\n",
       "    .dataframe thead th {\n",
       "        text-align: right;\n",
       "    }\n",
       "</style>\n",
       "<table border=\"1\" class=\"dataframe\">\n",
       "  <thead>\n",
       "    <tr style=\"text-align: right;\">\n",
       "      <th></th>\n",
       "      <th>Date</th>\n",
       "      <th>Series_ID</th>\n",
       "      <th>Low</th>\n",
       "      <th>Median</th>\n",
       "      <th>High</th>\n",
       "    </tr>\n",
       "  </thead>\n",
       "  <tbody>\n",
       "    <tr>\n",
       "      <th>0</th>\n",
       "      <td>1993-03-31</td>\n",
       "      <td>646</td>\n",
       "      <td>5395.203768</td>\n",
       "      <td>5562.237940</td>\n",
       "      <td>5645.755026</td>\n",
       "    </tr>\n",
       "    <tr>\n",
       "      <th>1</th>\n",
       "      <td>1993-06-30</td>\n",
       "      <td>646</td>\n",
       "      <td>5311.686681</td>\n",
       "      <td>5545.534523</td>\n",
       "      <td>5745.975529</td>\n",
       "    </tr>\n",
       "    <tr>\n",
       "      <th>2</th>\n",
       "      <td>1993-09-30</td>\n",
       "      <td>646</td>\n",
       "      <td>5211.466178</td>\n",
       "      <td>5545.534523</td>\n",
       "      <td>5796.085781</td>\n",
       "    </tr>\n",
       "    <tr>\n",
       "      <th>3</th>\n",
       "      <td>1993-12-31</td>\n",
       "      <td>646</td>\n",
       "      <td>5194.762761</td>\n",
       "      <td>5495.424271</td>\n",
       "      <td>5846.196033</td>\n",
       "    </tr>\n",
       "    <tr>\n",
       "      <th>4</th>\n",
       "      <td>1994-03-31</td>\n",
       "      <td>646</td>\n",
       "      <td>5144.652509</td>\n",
       "      <td>5478.720854</td>\n",
       "      <td>5996.526788</td>\n",
       "    </tr>\n",
       "    <tr>\n",
       "      <th>...</th>\n",
       "      <td>...</td>\n",
       "      <td>...</td>\n",
       "      <td>...</td>\n",
       "      <td>...</td>\n",
       "      <td>...</td>\n",
       "    </tr>\n",
       "    <tr>\n",
       "      <th>6043</th>\n",
       "      <td>1974-12-31</td>\n",
       "      <td>1401</td>\n",
       "      <td>3552.554252</td>\n",
       "      <td>4674.413490</td>\n",
       "      <td>5344.706745</td>\n",
       "    </tr>\n",
       "    <tr>\n",
       "      <th>6044</th>\n",
       "      <td>1975-03-31</td>\n",
       "      <td>1401</td>\n",
       "      <td>3383.217009</td>\n",
       "      <td>4498.020528</td>\n",
       "      <td>5376.457478</td>\n",
       "    </tr>\n",
       "    <tr>\n",
       "      <th>6045</th>\n",
       "      <td>1975-06-30</td>\n",
       "      <td>1401</td>\n",
       "      <td>2910.483871</td>\n",
       "      <td>4533.299120</td>\n",
       "      <td>5753.938416</td>\n",
       "    </tr>\n",
       "    <tr>\n",
       "      <th>6046</th>\n",
       "      <td>1975-09-30</td>\n",
       "      <td>1401</td>\n",
       "      <td>3203.296188</td>\n",
       "      <td>4815.527859</td>\n",
       "      <td>5965.609971</td>\n",
       "    </tr>\n",
       "    <tr>\n",
       "      <th>6047</th>\n",
       "      <td>1975-12-31</td>\n",
       "      <td>1401</td>\n",
       "      <td>3316.187683</td>\n",
       "      <td>5185.953079</td>\n",
       "      <td>6639.431085</td>\n",
       "    </tr>\n",
       "  </tbody>\n",
       "</table>\n",
       "<p>6048 rows × 5 columns</p>\n",
       "</div>"
      ],
      "text/plain": [
       "           Date  Series_ID          Low       Median         High\n",
       "0    1993-03-31        646  5395.203768  5562.237940  5645.755026\n",
       "1    1993-06-30        646  5311.686681  5545.534523  5745.975529\n",
       "2    1993-09-30        646  5211.466178  5545.534523  5796.085781\n",
       "3    1993-12-31        646  5194.762761  5495.424271  5846.196033\n",
       "4    1994-03-31        646  5144.652509  5478.720854  5996.526788\n",
       "...         ...        ...          ...          ...          ...\n",
       "6043 1974-12-31       1401  3552.554252  4674.413490  5344.706745\n",
       "6044 1975-03-31       1401  3383.217009  4498.020528  5376.457478\n",
       "6045 1975-06-30       1401  2910.483871  4533.299120  5753.938416\n",
       "6046 1975-09-30       1401  3203.296188  4815.527859  5965.609971\n",
       "6047 1975-12-31       1401  3316.187683  5185.953079  6639.431085\n",
       "\n",
       "[6048 rows x 5 columns]"
      ]
     },
     "execution_count": 4,
     "metadata": {},
     "output_type": "execute_result"
    }
   ],
   "source": [
    "forecast_df"
   ]
  },
  {
   "cell_type": "markdown",
   "metadata": {},
   "source": [
    "Slight issue. The datetime values here are a bit different from that in the processed parquet file, still the same quarter, but at the end of the month instead of the start. Should hardly matter. "
   ]
  },
  {
   "cell_type": "markdown",
   "metadata": {},
   "source": [
    "Need to decide how to use the low, median and high. Natural to just use median. For now save all of it."
   ]
  },
  {
   "cell_type": "code",
   "execution_count": 5,
   "metadata": {},
   "outputs": [],
   "source": [
    "forecast_df.to_parquet('M3_Chronos_quarter_forecast.parquet', index=False,  compression='gzip', engine='pyarrow')"
   ]
  }
 ],
 "metadata": {
  "kernelspec": {
   "display_name": "Python 3",
   "language": "python",
   "name": "python3"
  },
  "language_info": {
   "codemirror_mode": {
    "name": "ipython",
    "version": 3
   },
   "file_extension": ".py",
   "mimetype": "text/x-python",
   "name": "python",
   "nbconvert_exporter": "python",
   "pygments_lexer": "ipython3",
   "version": "3.11.4"
  }
 },
 "nbformat": 4,
 "nbformat_minor": 2
}
