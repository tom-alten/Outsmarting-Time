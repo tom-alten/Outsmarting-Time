{
 "cells": [
  {
   "cell_type": "markdown",
   "metadata": {},
   "source": [
    "### Config"
   ]
  },
  {
   "cell_type": "code",
   "execution_count": 2,
   "metadata": {},
   "outputs": [],
   "source": [
    "import matplotlib.pyplot as plt\n",
    "import numpy as np\n",
    "import pandas as pd\n",
    "from chronos_mlx import ChronosPipeline\n",
    "pd.set_option('display.max_columns', None)"
   ]
  },
  {
   "cell_type": "code",
   "execution_count": 5,
   "metadata": {},
   "outputs": [],
   "source": [
    "quart = pd.read_parquet('/Users/tomaltenborg/Documents/Master/Master thesis/Notebooks/M3 Data/M3_quarter_processed.parquet')"
   ]
  },
  {
   "cell_type": "markdown",
   "metadata": {},
   "source": [
    "## Loop and Produce Forecasts for All Quarterly Series"
   ]
  },
  {
   "cell_type": "code",
   "execution_count": 6,
   "metadata": {},
   "outputs": [
    {
     "name": "stdout",
     "output_type": "stream",
     "text": [
      "Forecasting completed for all series.\n"
     ]
    }
   ],
   "source": [
    "pipeline = ChronosPipeline.from_pretrained(\n",
    "    \"amazon/chronos-t5-base\",\n",
    "    dtype=\"bfloat16\",\n",
    ")\n",
    "\n",
    "unique_series = quart['Series'].unique()\n",
    "\n",
    "forecasts = {}\n",
    "\n",
    "for series_id in unique_series:\n",
    "    # Filter the dataframe for the current series\n",
    "    series_data = quart[quart['Series'] == series_id]\n",
    "    \n",
    "    # Ensure the data is sorted by date\n",
    "    series_data = series_data.sort_values('Date')\n",
    "    \n",
    "    # Get the number of observations to use for forecasting\n",
    "    N = series_data['N'].iloc[0]\n",
    "    NF = series_data['NF'].iloc[0]\n",
    "    \n",
    "    # Get the date of the last observation used for training\n",
    "    last_training_date = series_data['Date'].iloc[N-NF-1]  # -1 because iloc is 0-based\n",
    "\n",
    "    # Prepare the input data for the model\n",
    "    training_data = series_data['Value'].iloc[:N-NF].values  # Exclude the last NF values\n",
    "    \n",
    "    # Calculate forecast dates assuming quarterly data\n",
    "    forecast_dates = pd.date_range(start=last_training_date, periods=NF+1, freq='Q')[1:]  # Skip the first since it's the last training date\n",
    "    \n",
    "    # Predict the next NF values\n",
    "    try:\n",
    "        model_forecasts = pipeline.predict(\n",
    "            context=training_data,\n",
    "            prediction_length=NF,\n",
    "            num_samples=N-NF,\n",
    "            temperature=1.0,\n",
    "            top_k=50,\n",
    "            top_p=1.0\n",
    "        )#.squeeze(0).squeeze(0).numpy()  # Remove batch and sample dimensions for simplicity\n",
    "    except Exception as e:\n",
    "        print(f\"Failed to predict for series {series_id} with error: {e}\")\n",
    "        continue\n",
    "    \n",
    "    # Quantiles for uncertainty bounds\n",
    "    low, median, high = np.quantile(model_forecasts[0], [0.1, 0.5, 0.9], axis=0)\n",
    "    forecasts[series_id] = {\n",
    "        'Date': forecast_dates,\n",
    "        'low': low,\n",
    "        'median': median,\n",
    "        'high': high\n",
    "    }\n",
    "\n",
    "# Convert forecasts dictionary to a DataFrame for easier manipulation\n",
    "forecast_df = pd.DataFrame()\n",
    "for series_id, data in forecasts.items():\n",
    "    df_temp = pd.DataFrame({\n",
    "        'Date': data['Date'],\n",
    "        'Series_ID': series_id,\n",
    "        'Low': data['low'],\n",
    "        'Median': data['median'],\n",
    "        'High': data['high']\n",
    "    })\n",
    "    forecast_df = pd.concat([forecast_df, df_temp], ignore_index=True)\n",
    "\n",
    "# forecast_df.set_index(['Date', 'Series_ID'], inplace=True)\n",
    "print('Forecasting completed for all series.')"
   ]
  },
  {
   "cell_type": "code",
   "execution_count": 8,
   "metadata": {},
   "outputs": [
    {
     "data": {
      "text/html": [
       "<div>\n",
       "<style scoped>\n",
       "    .dataframe tbody tr th:only-of-type {\n",
       "        vertical-align: middle;\n",
       "    }\n",
       "\n",
       "    .dataframe tbody tr th {\n",
       "        vertical-align: top;\n",
       "    }\n",
       "\n",
       "    .dataframe thead th {\n",
       "        text-align: right;\n",
       "    }\n",
       "</style>\n",
       "<table border=\"1\" class=\"dataframe\">\n",
       "  <thead>\n",
       "    <tr style=\"text-align: right;\">\n",
       "      <th></th>\n",
       "      <th>Date</th>\n",
       "      <th>Series_ID</th>\n",
       "      <th>Low</th>\n",
       "      <th>Median</th>\n",
       "      <th>High</th>\n",
       "    </tr>\n",
       "  </thead>\n",
       "  <tbody>\n",
       "    <tr>\n",
       "      <th>0</th>\n",
       "      <td>1993-03-31</td>\n",
       "      <td>646</td>\n",
       "      <td>5411.907185</td>\n",
       "      <td>5512.127688</td>\n",
       "      <td>5645.755026</td>\n",
       "    </tr>\n",
       "    <tr>\n",
       "      <th>1</th>\n",
       "      <td>1993-06-30</td>\n",
       "      <td>646</td>\n",
       "      <td>5328.390099</td>\n",
       "      <td>5512.127688</td>\n",
       "      <td>5595.644774</td>\n",
       "    </tr>\n",
       "    <tr>\n",
       "      <th>2</th>\n",
       "      <td>1993-09-30</td>\n",
       "      <td>646</td>\n",
       "      <td>5345.093516</td>\n",
       "      <td>5478.720854</td>\n",
       "      <td>5695.865278</td>\n",
       "    </tr>\n",
       "    <tr>\n",
       "      <th>3</th>\n",
       "      <td>1993-12-31</td>\n",
       "      <td>646</td>\n",
       "      <td>5261.576430</td>\n",
       "      <td>5478.720854</td>\n",
       "      <td>5729.272112</td>\n",
       "    </tr>\n",
       "    <tr>\n",
       "      <th>4</th>\n",
       "      <td>1994-03-31</td>\n",
       "      <td>646</td>\n",
       "      <td>5194.762761</td>\n",
       "      <td>5478.720854</td>\n",
       "      <td>5779.382364</td>\n",
       "    </tr>\n",
       "    <tr>\n",
       "      <th>...</th>\n",
       "      <td>...</td>\n",
       "      <td>...</td>\n",
       "      <td>...</td>\n",
       "      <td>...</td>\n",
       "      <td>...</td>\n",
       "    </tr>\n",
       "    <tr>\n",
       "      <th>6043</th>\n",
       "      <td>1974-12-31</td>\n",
       "      <td>1401</td>\n",
       "      <td>3489.052786</td>\n",
       "      <td>4321.627566</td>\n",
       "      <td>5683.381232</td>\n",
       "    </tr>\n",
       "    <tr>\n",
       "      <th>6044</th>\n",
       "      <td>1975-03-31</td>\n",
       "      <td>1401</td>\n",
       "      <td>2924.595308</td>\n",
       "      <td>4303.988270</td>\n",
       "      <td>5739.826979</td>\n",
       "    </tr>\n",
       "    <tr>\n",
       "      <th>6045</th>\n",
       "      <td>1975-06-30</td>\n",
       "      <td>1401</td>\n",
       "      <td>3111.571848</td>\n",
       "      <td>4321.627566</td>\n",
       "      <td>6096.140762</td>\n",
       "    </tr>\n",
       "    <tr>\n",
       "      <th>6046</th>\n",
       "      <td>1975-09-30</td>\n",
       "      <td>1401</td>\n",
       "      <td>3425.551320</td>\n",
       "      <td>4815.527859</td>\n",
       "      <td>6392.480938</td>\n",
       "    </tr>\n",
       "    <tr>\n",
       "      <th>6047</th>\n",
       "      <td>1975-12-31</td>\n",
       "      <td>1401</td>\n",
       "      <td>3834.782991</td>\n",
       "      <td>4991.920821</td>\n",
       "      <td>6854.630499</td>\n",
       "    </tr>\n",
       "  </tbody>\n",
       "</table>\n",
       "<p>6048 rows × 5 columns</p>\n",
       "</div>"
      ],
      "text/plain": [
       "           Date  Series_ID          Low       Median         High\n",
       "0    1993-03-31        646  5411.907185  5512.127688  5645.755026\n",
       "1    1993-06-30        646  5328.390099  5512.127688  5595.644774\n",
       "2    1993-09-30        646  5345.093516  5478.720854  5695.865278\n",
       "3    1993-12-31        646  5261.576430  5478.720854  5729.272112\n",
       "4    1994-03-31        646  5194.762761  5478.720854  5779.382364\n",
       "...         ...        ...          ...          ...          ...\n",
       "6043 1974-12-31       1401  3489.052786  4321.627566  5683.381232\n",
       "6044 1975-03-31       1401  2924.595308  4303.988270  5739.826979\n",
       "6045 1975-06-30       1401  3111.571848  4321.627566  6096.140762\n",
       "6046 1975-09-30       1401  3425.551320  4815.527859  6392.480938\n",
       "6047 1975-12-31       1401  3834.782991  4991.920821  6854.630499\n",
       "\n",
       "[6048 rows x 5 columns]"
      ]
     },
     "execution_count": 8,
     "metadata": {},
     "output_type": "execute_result"
    }
   ],
   "source": [
    "forecast_df"
   ]
  },
  {
   "cell_type": "markdown",
   "metadata": {},
   "source": [
    "Slight issue. The datetime values here are a bit different from that in the processed parquet file, still the same quarter, but at the end of the month instead of the start. Should hardly matter. "
   ]
  },
  {
   "cell_type": "markdown",
   "metadata": {},
   "source": [
    "Need to decide how to use the low, median and high. Natural to just use median. For now save all of it."
   ]
  },
  {
   "cell_type": "code",
   "execution_count": 9,
   "metadata": {},
   "outputs": [],
   "source": [
    "forecast_df.to_parquet('M3_Chronos_quarter_forecast.parquet', index=False,  compression='gzip', engine='pyarrow')"
   ]
  }
 ],
 "metadata": {
  "kernelspec": {
   "display_name": "Python 3",
   "language": "python",
   "name": "python3"
  },
  "language_info": {
   "codemirror_mode": {
    "name": "ipython",
    "version": 3
   },
   "file_extension": ".py",
   "mimetype": "text/x-python",
   "name": "python",
   "nbconvert_exporter": "python",
   "pygments_lexer": "ipython3",
   "version": "3.11.4"
  }
 },
 "nbformat": 4,
 "nbformat_minor": 2
}
