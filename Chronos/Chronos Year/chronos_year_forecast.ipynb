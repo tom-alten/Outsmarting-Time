{
 "cells": [
  {
   "cell_type": "markdown",
   "metadata": {},
   "source": [
    "### Config"
   ]
  },
  {
   "cell_type": "code",
   "execution_count": 1,
   "metadata": {},
   "outputs": [],
   "source": [
    "import matplotlib.pyplot as plt\n",
    "import numpy as np\n",
    "import pandas as pd\n",
    "from chronos_mlx import ChronosPipeline\n",
    "pd.set_option('display.max_columns', None)"
   ]
  },
  {
   "cell_type": "code",
   "execution_count": 4,
   "metadata": {},
   "outputs": [],
   "source": [
    "year = pd.read_parquet('/Users/tomaltenborg/Documents/Master/Master thesis/Notebooks/M3 Data/M3_yearly_processed.parquet')"
   ]
  },
  {
   "cell_type": "markdown",
   "metadata": {},
   "source": [
    "## Loop and Produce Forecasts for All Yearly Series"
   ]
  },
  {
   "cell_type": "code",
   "execution_count": 5,
   "metadata": {},
   "outputs": [
    {
     "name": "stdout",
     "output_type": "stream",
     "text": [
      "Forecasting completed for all series.\n"
     ]
    }
   ],
   "source": [
    "pipeline = ChronosPipeline.from_pretrained(\n",
    "    \"amazon/chronos-t5-base\",\n",
    "    dtype=\"bfloat16\",\n",
    ")\n",
    "\n",
    "unique_series = year['Series'].unique()\n",
    "\n",
    "forecasts = {}\n",
    "\n",
    "for series_id in unique_series:\n",
    "    # Filter the dataframe for the current series\n",
    "    series_data = year[year['Series'] == series_id]\n",
    "    \n",
    "    # Ensure the data is sorted by date\n",
    "    series_data = series_data.sort_values('Date')\n",
    "    \n",
    "    # Get the number of observations to use for forecasting\n",
    "    N = series_data['N'].iloc[0]\n",
    "    NF = series_data['NF'].iloc[0]\n",
    "    \n",
    "    # Get the date of the last observation used for training\n",
    "    last_training_date = series_data['Date'].iloc[N-NF-1]  # -1 because iloc is 0-based\n",
    "\n",
    "    # Prepare the input data for the model\n",
    "    training_data = series_data['Value'].iloc[:N-NF].values  # Exclude the last NF values\n",
    "    \n",
    "    # Calculate forecast dates assuming yearly data\n",
    "    forecast_dates = pd.date_range(start=last_training_date, periods=NF+1, freq='YS')[1:]  # Skip the first since it's the last training date\n",
    "    \n",
    "    # Predict the next NF values\n",
    "    try:\n",
    "        model_forecasts = pipeline.predict(\n",
    "            context=training_data,\n",
    "            prediction_length=NF,\n",
    "            num_samples=N-NF,\n",
    "            temperature=1.0,\n",
    "            top_k=50,\n",
    "            top_p=1.0\n",
    "        )#.squeeze(0).squeeze(0).numpy()  # Remove batch and sample dimensions for simplicity\n",
    "    except Exception as e:\n",
    "        print(f\"Failed to predict for series {series_id} with error: {e}\")\n",
    "        continue\n",
    "    \n",
    "    # Quantiles for uncertainty bounds\n",
    "    low, median, high = np.quantile(model_forecasts[0], [0.1, 0.5, 0.9], axis=0)\n",
    "    forecasts[series_id] = {\n",
    "        'Date': forecast_dates,\n",
    "        'low': low,\n",
    "        'median': median,\n",
    "        'high': high\n",
    "    }\n",
    "\n",
    "# Convert forecasts dictionary to a DataFrame for easier manipulation\n",
    "forecast_df = pd.DataFrame()\n",
    "for series_id, data in forecasts.items():\n",
    "    df_temp = pd.DataFrame({\n",
    "        'Date': data['Date'],\n",
    "        'Series_ID': series_id,\n",
    "        'Low': data['low'],\n",
    "        'Median': data['median'],\n",
    "        'High': data['high']\n",
    "    })\n",
    "    forecast_df = pd.concat([forecast_df, df_temp], ignore_index=True)\n",
    "\n",
    "# forecast_df.set_index(['Date', 'Series_ID'], inplace=True)\n",
    "print('Forecasting completed for all series.')"
   ]
  },
  {
   "cell_type": "code",
   "execution_count": 6,
   "metadata": {},
   "outputs": [
    {
     "data": {
      "text/html": [
       "<div>\n",
       "<style scoped>\n",
       "    .dataframe tbody tr th:only-of-type {\n",
       "        vertical-align: middle;\n",
       "    }\n",
       "\n",
       "    .dataframe tbody tr th {\n",
       "        vertical-align: top;\n",
       "    }\n",
       "\n",
       "    .dataframe thead th {\n",
       "        text-align: right;\n",
       "    }\n",
       "</style>\n",
       "<table border=\"1\" class=\"dataframe\">\n",
       "  <thead>\n",
       "    <tr style=\"text-align: right;\">\n",
       "      <th></th>\n",
       "      <th>Date</th>\n",
       "      <th>Series_ID</th>\n",
       "      <th>Low</th>\n",
       "      <th>Median</th>\n",
       "      <th>High</th>\n",
       "    </tr>\n",
       "  </thead>\n",
       "  <tbody>\n",
       "    <tr>\n",
       "      <th>0</th>\n",
       "      <td>1989-01-01</td>\n",
       "      <td>1</td>\n",
       "      <td>5272.390744</td>\n",
       "      <td>5471.703660</td>\n",
       "      <td>5748.109309</td>\n",
       "    </tr>\n",
       "    <tr>\n",
       "      <th>1</th>\n",
       "      <td>1990-01-01</td>\n",
       "      <td>1</td>\n",
       "      <td>5398.371550</td>\n",
       "      <td>5847.765768</td>\n",
       "      <td>6193.742906</td>\n",
       "    </tr>\n",
       "    <tr>\n",
       "      <th>2</th>\n",
       "      <td>1991-01-01</td>\n",
       "      <td>1</td>\n",
       "      <td>5358.885028</td>\n",
       "      <td>6195.623217</td>\n",
       "      <td>6573.565635</td>\n",
       "    </tr>\n",
       "    <tr>\n",
       "      <th>3</th>\n",
       "      <td>1992-01-01</td>\n",
       "      <td>1</td>\n",
       "      <td>4759.065967</td>\n",
       "      <td>6195.623217</td>\n",
       "      <td>6904.500289</td>\n",
       "    </tr>\n",
       "    <tr>\n",
       "      <th>4</th>\n",
       "      <td>1993-01-01</td>\n",
       "      <td>1</td>\n",
       "      <td>4371.721997</td>\n",
       "      <td>5866.568873</td>\n",
       "      <td>7227.913701</td>\n",
       "    </tr>\n",
       "    <tr>\n",
       "      <th>5</th>\n",
       "      <td>1994-01-01</td>\n",
       "      <td>1</td>\n",
       "      <td>4020.103926</td>\n",
       "      <td>5828.962662</td>\n",
       "      <td>7316.288297</td>\n",
       "    </tr>\n",
       "  </tbody>\n",
       "</table>\n",
       "</div>"
      ],
      "text/plain": [
       "        Date  Series_ID          Low       Median         High\n",
       "0 1989-01-01          1  5272.390744  5471.703660  5748.109309\n",
       "1 1990-01-01          1  5398.371550  5847.765768  6193.742906\n",
       "2 1991-01-01          1  5358.885028  6195.623217  6573.565635\n",
       "3 1992-01-01          1  4759.065967  6195.623217  6904.500289\n",
       "4 1993-01-01          1  4371.721997  5866.568873  7227.913701\n",
       "5 1994-01-01          1  4020.103926  5828.962662  7316.288297"
      ]
     },
     "execution_count": 6,
     "metadata": {},
     "output_type": "execute_result"
    }
   ],
   "source": [
    "forecast_df.loc[forecast_df['Series_ID'] == 1]"
   ]
  },
  {
   "cell_type": "code",
   "execution_count": 7,
   "metadata": {},
   "outputs": [],
   "source": [
    "forecast_df.to_parquet('M3_Chronos_year_forecast.parquet', index=False,  compression='gzip', engine='pyarrow')"
   ]
  }
 ],
 "metadata": {
  "kernelspec": {
   "display_name": "Python 3",
   "language": "python",
   "name": "python3"
  },
  "language_info": {
   "codemirror_mode": {
    "name": "ipython",
    "version": 3
   },
   "file_extension": ".py",
   "mimetype": "text/x-python",
   "name": "python",
   "nbconvert_exporter": "python",
   "pygments_lexer": "ipython3",
   "version": "3.11.4"
  }
 },
 "nbformat": 4,
 "nbformat_minor": 2
}
