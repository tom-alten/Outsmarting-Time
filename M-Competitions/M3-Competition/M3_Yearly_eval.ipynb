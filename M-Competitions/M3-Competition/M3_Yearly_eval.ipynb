{
 "cells": [
  {
   "cell_type": "markdown",
   "metadata": {},
   "source": [
    "## Config"
   ]
  },
  {
   "cell_type": "code",
   "execution_count": 1,
   "metadata": {},
   "outputs": [],
   "source": [
    "import pandas as pd\n",
    "import numpy as np\n",
    "import matplotlib.pyplot as plt\n",
    "pd.set_option('display.max_columns', None)\n",
    "pd.set_option('display.max_rows', 30)"
   ]
  },
  {
   "cell_type": "markdown",
   "metadata": {},
   "source": [
    "## Data"
   ]
  },
  {
   "cell_type": "code",
   "execution_count": 2,
   "metadata": {},
   "outputs": [],
   "source": [
    "df_train = pd.read_parquet('M3_yearly_processed.parquet')\n",
    "df_eval = pd.read_parquet('M3_yearly_simple_forecasts.parquet')"
   ]
  },
  {
   "cell_type": "code",
   "execution_count": 3,
   "metadata": {},
   "outputs": [
    {
     "data": {
      "text/html": [
       "<div>\n",
       "<style scoped>\n",
       "    .dataframe tbody tr th:only-of-type {\n",
       "        vertical-align: middle;\n",
       "    }\n",
       "\n",
       "    .dataframe tbody tr th {\n",
       "        vertical-align: top;\n",
       "    }\n",
       "\n",
       "    .dataframe thead th {\n",
       "        text-align: right;\n",
       "    }\n",
       "</style>\n",
       "<table border=\"1\" class=\"dataframe\">\n",
       "  <thead>\n",
       "    <tr style=\"text-align: right;\">\n",
       "      <th></th>\n",
       "      <th>Series</th>\n",
       "      <th>N</th>\n",
       "      <th>NF</th>\n",
       "      <th>Category</th>\n",
       "      <th>Value</th>\n",
       "      <th>Date</th>\n",
       "    </tr>\n",
       "  </thead>\n",
       "  <tbody>\n",
       "    <tr>\n",
       "      <th>0</th>\n",
       "      <td>1</td>\n",
       "      <td>20</td>\n",
       "      <td>6</td>\n",
       "      <td>MICRO</td>\n",
       "      <td>940.66</td>\n",
       "      <td>1975-01-01</td>\n",
       "    </tr>\n",
       "    <tr>\n",
       "      <th>1</th>\n",
       "      <td>1</td>\n",
       "      <td>20</td>\n",
       "      <td>6</td>\n",
       "      <td>MICRO</td>\n",
       "      <td>1084.86</td>\n",
       "      <td>1976-01-01</td>\n",
       "    </tr>\n",
       "    <tr>\n",
       "      <th>2</th>\n",
       "      <td>1</td>\n",
       "      <td>20</td>\n",
       "      <td>6</td>\n",
       "      <td>MICRO</td>\n",
       "      <td>1244.98</td>\n",
       "      <td>1977-01-01</td>\n",
       "    </tr>\n",
       "    <tr>\n",
       "      <th>3</th>\n",
       "      <td>1</td>\n",
       "      <td>20</td>\n",
       "      <td>6</td>\n",
       "      <td>MICRO</td>\n",
       "      <td>1445.02</td>\n",
       "      <td>1978-01-01</td>\n",
       "    </tr>\n",
       "    <tr>\n",
       "      <th>4</th>\n",
       "      <td>1</td>\n",
       "      <td>20</td>\n",
       "      <td>6</td>\n",
       "      <td>MICRO</td>\n",
       "      <td>1683.17</td>\n",
       "      <td>1979-01-01</td>\n",
       "    </tr>\n",
       "  </tbody>\n",
       "</table>\n",
       "</div>"
      ],
      "text/plain": [
       "   Series   N  NF      Category    Value       Date\n",
       "0       1  20   6  MICRO          940.66 1975-01-01\n",
       "1       1  20   6  MICRO         1084.86 1976-01-01\n",
       "2       1  20   6  MICRO         1244.98 1977-01-01\n",
       "3       1  20   6  MICRO         1445.02 1978-01-01\n",
       "4       1  20   6  MICRO         1683.17 1979-01-01"
      ]
     },
     "execution_count": 3,
     "metadata": {},
     "output_type": "execute_result"
    }
   ],
   "source": [
    "df_train.head()"
   ]
  },
  {
   "cell_type": "code",
   "execution_count": 4,
   "metadata": {},
   "outputs": [
    {
     "data": {
      "text/html": [
       "<div>\n",
       "<style scoped>\n",
       "    .dataframe tbody tr th:only-of-type {\n",
       "        vertical-align: middle;\n",
       "    }\n",
       "\n",
       "    .dataframe tbody tr th {\n",
       "        vertical-align: top;\n",
       "    }\n",
       "\n",
       "    .dataframe thead th {\n",
       "        text-align: right;\n",
       "    }\n",
       "</style>\n",
       "<table border=\"1\" class=\"dataframe\">\n",
       "  <thead>\n",
       "    <tr style=\"text-align: right;\">\n",
       "      <th></th>\n",
       "      <th>Series</th>\n",
       "      <th>Date</th>\n",
       "      <th>TimeGPT</th>\n",
       "    </tr>\n",
       "  </thead>\n",
       "  <tbody>\n",
       "    <tr>\n",
       "      <th>0</th>\n",
       "      <td>1</td>\n",
       "      <td>1989-01-01</td>\n",
       "      <td>5121.754395</td>\n",
       "    </tr>\n",
       "    <tr>\n",
       "      <th>1</th>\n",
       "      <td>1</td>\n",
       "      <td>1990-01-01</td>\n",
       "      <td>4974.531738</td>\n",
       "    </tr>\n",
       "    <tr>\n",
       "      <th>2</th>\n",
       "      <td>1</td>\n",
       "      <td>1991-01-01</td>\n",
       "      <td>4750.660156</td>\n",
       "    </tr>\n",
       "    <tr>\n",
       "      <th>3</th>\n",
       "      <td>1</td>\n",
       "      <td>1992-01-01</td>\n",
       "      <td>4366.261719</td>\n",
       "    </tr>\n",
       "    <tr>\n",
       "      <th>4</th>\n",
       "      <td>1</td>\n",
       "      <td>1993-01-01</td>\n",
       "      <td>3914.425781</td>\n",
       "    </tr>\n",
       "  </tbody>\n",
       "</table>\n",
       "</div>"
      ],
      "text/plain": [
       "   Series       Date      TimeGPT\n",
       "0       1 1989-01-01  5121.754395\n",
       "1       1 1990-01-01  4974.531738\n",
       "2       1 1991-01-01  4750.660156\n",
       "3       1 1992-01-01  4366.261719\n",
       "4       1 1993-01-01  3914.425781"
      ]
     },
     "execution_count": 4,
     "metadata": {},
     "output_type": "execute_result"
    }
   ],
   "source": [
    "df_eval.head()"
   ]
  },
  {
   "cell_type": "markdown",
   "metadata": {},
   "source": [
    "## Official Evaluation Metrics\n",
    "Five accuracy measures:\n",
    "1. Symmetric MAPE\n",
    "\n",
    "2. Average Ranking\n",
    "\n",
    "3. Median symmetric APE\n",
    "\n",
    "4. Median RAE\n",
    "\n",
    "5. RMSE (root mean squared error)\n",
    "\n",
    "Forecasting metrics calculations with assist of github repository:\n",
    "https://gist.github.com/bshishov/5dc237f59f019b26145648e2124ca1c9"
   ]
  },
  {
   "cell_type": "code",
   "execution_count": 5,
   "metadata": {},
   "outputs": [],
   "source": [
    "%run '/Users/tomaltenborg/Documents/Master/Master thesis/Notebooks/forecasting_metrics.py'"
   ]
  },
  {
   "cell_type": "markdown",
   "metadata": {},
   "source": [
    "#### NB! When using methods from this file nothing is multiplied with 100 for percentage operations!"
   ]
  },
  {
   "cell_type": "code",
   "execution_count": 13,
   "metadata": {},
   "outputs": [],
   "source": [
    "actuals = np.array([900, 120, 138, 155, 149]) \n",
    "forecasts = np.array([1100, 124, 132, 141, 149]) "
   ]
  },
  {
   "cell_type": "markdown",
   "metadata": {},
   "source": [
    "### Symmetric MAPE (Mean Absolute Percentage Error)\n",
    "The symmetric MAPE fluctuates between -200% and 200%"
   ]
  },
  {
   "cell_type": "code",
   "execution_count": 16,
   "metadata": {},
   "outputs": [
    {
     "name": "stdout",
     "output_type": "stream",
     "text": [
      "sMAPE: 7.44%\n"
     ]
    }
   ],
   "source": [
    "smape_val = smape(actuals, forecasts)\n",
    "print(f'sMAPE: {smape_val * 100:.2f}%')"
   ]
  },
  {
   "cell_type": "markdown",
   "metadata": {},
   "source": [
    "### Median Symmetric APE (median symmetric absolute percentage error)"
   ]
  },
  {
   "cell_type": "code",
   "execution_count": 17,
   "metadata": {},
   "outputs": [
    {
     "name": "stdout",
     "output_type": "stream",
     "text": [
      "sMAPE: 4.44%\n"
     ]
    }
   ],
   "source": [
    "symmetric_ape = smdape(actuals, forecasts)\n",
    "print(f'sMAPE: {symmetric_ape * 100:.2f}%')"
   ]
  },
  {
   "cell_type": "markdown",
   "metadata": {},
   "source": [
    "### Median RAE (relative absolute error)"
   ]
  },
  {
   "cell_type": "code",
   "execution_count": 18,
   "metadata": {},
   "outputs": [
    {
     "name": "stdout",
     "output_type": "stream",
     "text": [
      "MDRAE: 0.17\n"
     ]
    }
   ],
   "source": [
    "mdrae_val = mdrae(actuals, forecasts)\n",
    "print(f'MDRAE: {mdrae_val:.2f}')"
   ]
  },
  {
   "cell_type": "markdown",
   "metadata": {},
   "source": [
    "### RMSE (Root Mean Square Error)"
   ]
  },
  {
   "cell_type": "code",
   "execution_count": 19,
   "metadata": {},
   "outputs": [
    {
     "name": "stdout",
     "output_type": "stream",
     "text": [
      "RMSE: 89.72\n"
     ]
    }
   ],
   "source": [
    "rmse_val = rmse(actuals, forecasts)\n",
    "print(f'RMSE: {rmse_val:.2f}')"
   ]
  },
  {
   "cell_type": "markdown",
   "metadata": {},
   "source": [
    "## Evaluation"
   ]
  },
  {
   "cell_type": "markdown",
   "metadata": {},
   "source": [
    "### Agregated"
   ]
  },
  {
   "cell_type": "code",
   "execution_count": 22,
   "metadata": {},
   "outputs": [],
   "source": [
    "eval_ex1 = df_eval.loc[df_eval['Series'] == 1]\n",
    "train_ex1 = df_train.loc[df_train['Series'] == 1]"
   ]
  },
  {
   "cell_type": "markdown",
   "metadata": {},
   "source": [
    "#### Function that returns all eval metrics specified in competition"
   ]
  },
  {
   "cell_type": "code",
   "execution_count": 41,
   "metadata": {},
   "outputs": [],
   "source": [
    "def all_eval_metrics(merged_df):\n",
    "    \"\"\"\n",
    "    Calculate sMAPE, sMdAPE, MdRAE, and RMSE for each series within a merged DataFrame.\n",
    "    \n",
    "    Args:\n",
    "    - merged_df (pd.DataFrame): DataFrame containing both actual and forecasted values, \n",
    "                                with 'Series', 'Date', 'Value' (actual), and 'TimeGPT' (forecast) columns.\n",
    "    \n",
    "    Returns:\n",
    "    - pd.DataFrame: DataFrame containing the evaluation metrics for each series, along with the series identifier.\n",
    "    \"\"\"\n",
    "    \n",
    "    # Assuming the benchmark model is a naive model (last known value)\n",
    "    # For simplicity, this function uses the last available 'Value' as the benchmark for all points in a series,\n",
    "    # which might not perfectly align with Naïve2 if seasonality adjustments are required.\n",
    "    \n",
    "    results = []  # Initialize an empty list to store the results\n",
    "    \n",
    "    for series_id in merged_df['Series'].unique():\n",
    "        series_data = merged_df[merged_df['Series'] == series_id]\n",
    "        \n",
    "        # Ensure there are no missing values in the series data for calculation\n",
    "        if series_data.dropna(subset=['Value', 'TimeGPT']).empty:\n",
    "            continue\n",
    "        \n",
    "        actuals = series_data['Value'].values\n",
    "        forecasts = series_data['TimeGPT'].values\n",
    "        \n",
    "        # Simplified benchmark (naive forecast) calculation: using the last known value\n",
    "        benchmark = np.full_like(actuals, actuals[-1])\n",
    "        \n",
    "        # Calculate metrics\n",
    "        smape_val = smape(actuals, forecasts)\n",
    "        smdape_val = mdape(actuals, forecasts)\n",
    "        mdrae_val = mdrae(actuals, forecasts, benchmark)\n",
    "        rmse_val = rmse(actuals, forecasts)\n",
    "        \n",
    "        results.append({\n",
    "            'Series': series_id,\n",
    "            'symmetric_MAPE': smape_val,\n",
    "            'Median_APE': smdape_val,\n",
    "            'Median_RAE': mdrae_val,\n",
    "            'RMSE': rmse_val\n",
    "        })\n",
    "    \n",
    "    # Convert the list of results to a DataFrame\n",
    "    return pd.DataFrame(results)"
   ]
  },
  {
   "cell_type": "code",
   "execution_count": 42,
   "metadata": {},
   "outputs": [],
   "source": [
    "df_merged = pd.merge(df_train, df_eval, on=['Series', 'Date'], how='left')"
   ]
  },
  {
   "cell_type": "code",
   "execution_count": 43,
   "metadata": {},
   "outputs": [],
   "source": [
    "df_merged1 = df_merged.dropna(subset=['Value', 'TimeGPT'])"
   ]
  },
  {
   "cell_type": "code",
   "execution_count": 49,
   "metadata": {},
   "outputs": [],
   "source": [
    "eval_metrics_df = all_eval_metrics(df_merged1)"
   ]
  },
  {
   "cell_type": "code",
   "execution_count": 50,
   "metadata": {},
   "outputs": [
    {
     "name": "stdout",
     "output_type": "stream",
     "text": [
      "Series                   323.00\n",
      "symmetric_MAPE             0.24\n",
      "Median_dAPE                0.23\n",
      "Median_RAE        3103526984.71\n",
      "RMSE                    1593.61\n",
      "dtype: object\n"
     ]
    }
   ],
   "source": [
    "print(eval_metrics_df.mean().apply(lambda x: f'{x:.2f}'))"
   ]
  },
  {
   "cell_type": "markdown",
   "metadata": {},
   "source": [
    "### With time series steps"
   ]
  },
  {
   "cell_type": "code",
   "execution_count": 55,
   "metadata": {},
   "outputs": [],
   "source": [
    "def eval_metrics_by_step(merged_df):\n",
    "    \"\"\"\n",
    "    Calculate sMAPE, sMdAPE, MdRAE, and RMSE for each forecast step within each series.\n",
    "    \n",
    "    Args:\n",
    "    - merged_df (pd.DataFrame): DataFrame containing both actual and forecasted values,\n",
    "                                with 'Series', 'Date', 'Value' (actual), and 'TimeGPT' (forecast) columns.\n",
    "    \n",
    "    Returns:\n",
    "    - pd.DataFrame: DataFrame containing the evaluation metrics for each forecast step within each series.\n",
    "    \"\"\"\n",
    "    results = []  # Initialize an empty list to store the results\n",
    "    \n",
    "    for series_id in merged_df['Series'].unique():\n",
    "        series_data = merged_df[merged_df['Series'] == series_id]\n",
    "        \n",
    "        # Calculate forecast horizon (assuming consecutive and complete forecast steps for each series)\n",
    "        max_horizon = series_data.shape[0]\n",
    "        \n",
    "        # Iterate over each forecast step\n",
    "        for step in range(1, max_horizon + 1):\n",
    "            # For each step, select only rows up to the current forecast step\n",
    "            step_data = series_data.head(step)\n",
    "            \n",
    "            # Check for sufficient data\n",
    "            if step_data.dropna(subset=['Value', 'TimeGPT']).empty:\n",
    "                continue\n",
    "            \n",
    "            actuals = step_data['Value'].values\n",
    "            forecasts = step_data['TimeGPT'].values\n",
    "            \n",
    "            # Simplified benchmark calculation\n",
    "            benchmark = np.full_like(actuals, actuals[-1])\n",
    "            \n",
    "            # Calculate metrics\n",
    "            smape_val = smape(actuals, forecasts)\n",
    "            smdape_val = mdape(actuals, forecasts)\n",
    "            mdrae_val = mdrae(actuals, forecasts, benchmark)\n",
    "            rmse_val = rmse(actuals, forecasts)\n",
    "            \n",
    "            results.append({\n",
    "                'Series': series_id,\n",
    "                'symmetric_MAPE': smape_val,\n",
    "                'Median_APE': smdape_val,\n",
    "                'Median_RAE': mdrae_val,\n",
    "                'RMSE': rmse_val\n",
    "            })\n",
    "    \n",
    "    # Convert the list of results to a DataFrame\n",
    "    return pd.DataFrame(results)\n"
   ]
  },
  {
   "cell_type": "code",
   "execution_count": 56,
   "metadata": {},
   "outputs": [],
   "source": [
    "step_wise = eval_metrics_by_step(df_merged1)\n"
   ]
  },
  {
   "cell_type": "code",
   "execution_count": 57,
   "metadata": {},
   "outputs": [
    {
     "data": {
      "text/html": [
       "<div>\n",
       "<style scoped>\n",
       "    .dataframe tbody tr th:only-of-type {\n",
       "        vertical-align: middle;\n",
       "    }\n",
       "\n",
       "    .dataframe tbody tr th {\n",
       "        vertical-align: top;\n",
       "    }\n",
       "\n",
       "    .dataframe thead th {\n",
       "        text-align: right;\n",
       "    }\n",
       "</style>\n",
       "<table border=\"1\" class=\"dataframe\">\n",
       "  <thead>\n",
       "    <tr style=\"text-align: right;\">\n",
       "      <th></th>\n",
       "      <th>Series</th>\n",
       "      <th>symmetric_MAPE</th>\n",
       "      <th>Median_APE</th>\n",
       "      <th>Median_RAE</th>\n",
       "      <th>RMSE</th>\n",
       "    </tr>\n",
       "  </thead>\n",
       "  <tbody>\n",
       "    <tr>\n",
       "      <th>0</th>\n",
       "      <td>1</td>\n",
       "      <td>0.049135</td>\n",
       "      <td>0.047957</td>\n",
       "      <td>2.579956e+12</td>\n",
       "      <td>257.995605</td>\n",
       "    </tr>\n",
       "    <tr>\n",
       "      <th>1</th>\n",
       "      <td>1</td>\n",
       "      <td>0.130929</td>\n",
       "      <td>0.120115</td>\n",
       "      <td>5.920741e+12</td>\n",
       "      <td>856.962321</td>\n",
       "    </tr>\n",
       "    <tr>\n",
       "      <th>2</th>\n",
       "      <td>1</td>\n",
       "      <td>0.209179</td>\n",
       "      <td>0.192273</td>\n",
       "      <td>1.649461e+00</td>\n",
       "      <td>1412.834506</td>\n",
       "    </tr>\n",
       "    <tr>\n",
       "      <th>3</th>\n",
       "      <td>1</td>\n",
       "      <td>0.299526</td>\n",
       "      <td>0.250713</td>\n",
       "      <td>1.439518e+00</td>\n",
       "      <td>2129.439361</td>\n",
       "    </tr>\n",
       "    <tr>\n",
       "      <th>4</th>\n",
       "      <td>1</td>\n",
       "      <td>0.385484</td>\n",
       "      <td>0.309154</td>\n",
       "      <td>1.388347e+00</td>\n",
       "      <td>2768.711589</td>\n",
       "    </tr>\n",
       "  </tbody>\n",
       "</table>\n",
       "</div>"
      ],
      "text/plain": [
       "   Series  symmetric_MAPE  Median_APE    Median_RAE         RMSE\n",
       "0       1        0.049135    0.047957  2.579956e+12   257.995605\n",
       "1       1        0.130929    0.120115  5.920741e+12   856.962321\n",
       "2       1        0.209179    0.192273  1.649461e+00  1412.834506\n",
       "3       1        0.299526    0.250713  1.439518e+00  2129.439361\n",
       "4       1        0.385484    0.309154  1.388347e+00  2768.711589"
      ]
     },
     "execution_count": 57,
     "metadata": {},
     "output_type": "execute_result"
    }
   ],
   "source": [
    "step_wise.head()"
   ]
  },
  {
   "cell_type": "code",
   "execution_count": 58,
   "metadata": {},
   "outputs": [
    {
     "name": "stdout",
     "output_type": "stream",
     "text": [
      "Series                      323.00\n",
      "symmetric_MAPE                0.17\n",
      "Median_APE                    0.17\n",
      "Median_RAE        1598739399838.87\n",
      "RMSE                       1064.17\n",
      "dtype: object\n"
     ]
    }
   ],
   "source": [
    "print(step_wise.mean().apply(lambda x: f'{x:.2f}'))"
   ]
  }
 ],
 "metadata": {
  "kernelspec": {
   "display_name": "Python 3",
   "language": "python",
   "name": "python3"
  },
  "language_info": {
   "codemirror_mode": {
    "name": "ipython",
    "version": 3
   },
   "file_extension": ".py",
   "mimetype": "text/x-python",
   "name": "python",
   "nbconvert_exporter": "python",
   "pygments_lexer": "ipython3",
   "version": "3.11.4"
  }
 },
 "nbformat": 4,
 "nbformat_minor": 2
}
