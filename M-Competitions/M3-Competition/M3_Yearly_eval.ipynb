{
 "cells": [
  {
   "cell_type": "markdown",
   "metadata": {},
   "source": [
    "## Config"
   ]
  },
  {
   "cell_type": "code",
   "execution_count": 40,
   "metadata": {},
   "outputs": [],
   "source": [
    "import pandas as pd\n",
    "import numpy as np\n",
    "import matplotlib.pyplot as plt\n",
    "pd.set_option('display.max_columns', None)\n",
    "pd.set_option('display.max_rows', 30)"
   ]
  },
  {
   "cell_type": "markdown",
   "metadata": {},
   "source": [
    "## Data"
   ]
  },
  {
   "cell_type": "code",
   "execution_count": 41,
   "metadata": {},
   "outputs": [],
   "source": [
    "df_train = pd.read_parquet('M3_yearly_processed.parquet')\n",
    "df_eval = pd.read_parquet('M3_yearly_simple_forecasts.parquet')"
   ]
  },
  {
   "cell_type": "code",
   "execution_count": 42,
   "metadata": {},
   "outputs": [
    {
     "data": {
      "text/html": [
       "<div>\n",
       "<style scoped>\n",
       "    .dataframe tbody tr th:only-of-type {\n",
       "        vertical-align: middle;\n",
       "    }\n",
       "\n",
       "    .dataframe tbody tr th {\n",
       "        vertical-align: top;\n",
       "    }\n",
       "\n",
       "    .dataframe thead th {\n",
       "        text-align: right;\n",
       "    }\n",
       "</style>\n",
       "<table border=\"1\" class=\"dataframe\">\n",
       "  <thead>\n",
       "    <tr style=\"text-align: right;\">\n",
       "      <th></th>\n",
       "      <th>Series</th>\n",
       "      <th>N</th>\n",
       "      <th>NF</th>\n",
       "      <th>Category</th>\n",
       "      <th>Value</th>\n",
       "      <th>Date</th>\n",
       "    </tr>\n",
       "  </thead>\n",
       "  <tbody>\n",
       "    <tr>\n",
       "      <th>0</th>\n",
       "      <td>1</td>\n",
       "      <td>20</td>\n",
       "      <td>6</td>\n",
       "      <td>MICRO</td>\n",
       "      <td>940.66</td>\n",
       "      <td>1975-01-01</td>\n",
       "    </tr>\n",
       "    <tr>\n",
       "      <th>1</th>\n",
       "      <td>1</td>\n",
       "      <td>20</td>\n",
       "      <td>6</td>\n",
       "      <td>MICRO</td>\n",
       "      <td>1084.86</td>\n",
       "      <td>1976-01-01</td>\n",
       "    </tr>\n",
       "    <tr>\n",
       "      <th>2</th>\n",
       "      <td>1</td>\n",
       "      <td>20</td>\n",
       "      <td>6</td>\n",
       "      <td>MICRO</td>\n",
       "      <td>1244.98</td>\n",
       "      <td>1977-01-01</td>\n",
       "    </tr>\n",
       "    <tr>\n",
       "      <th>3</th>\n",
       "      <td>1</td>\n",
       "      <td>20</td>\n",
       "      <td>6</td>\n",
       "      <td>MICRO</td>\n",
       "      <td>1445.02</td>\n",
       "      <td>1978-01-01</td>\n",
       "    </tr>\n",
       "    <tr>\n",
       "      <th>4</th>\n",
       "      <td>1</td>\n",
       "      <td>20</td>\n",
       "      <td>6</td>\n",
       "      <td>MICRO</td>\n",
       "      <td>1683.17</td>\n",
       "      <td>1979-01-01</td>\n",
       "    </tr>\n",
       "  </tbody>\n",
       "</table>\n",
       "</div>"
      ],
      "text/plain": [
       "   Series   N  NF      Category    Value       Date\n",
       "0       1  20   6  MICRO          940.66 1975-01-01\n",
       "1       1  20   6  MICRO         1084.86 1976-01-01\n",
       "2       1  20   6  MICRO         1244.98 1977-01-01\n",
       "3       1  20   6  MICRO         1445.02 1978-01-01\n",
       "4       1  20   6  MICRO         1683.17 1979-01-01"
      ]
     },
     "execution_count": 42,
     "metadata": {},
     "output_type": "execute_result"
    }
   ],
   "source": [
    "df_train.head()"
   ]
  },
  {
   "cell_type": "code",
   "execution_count": 43,
   "metadata": {},
   "outputs": [
    {
     "data": {
      "text/html": [
       "<div>\n",
       "<style scoped>\n",
       "    .dataframe tbody tr th:only-of-type {\n",
       "        vertical-align: middle;\n",
       "    }\n",
       "\n",
       "    .dataframe tbody tr th {\n",
       "        vertical-align: top;\n",
       "    }\n",
       "\n",
       "    .dataframe thead th {\n",
       "        text-align: right;\n",
       "    }\n",
       "</style>\n",
       "<table border=\"1\" class=\"dataframe\">\n",
       "  <thead>\n",
       "    <tr style=\"text-align: right;\">\n",
       "      <th></th>\n",
       "      <th>Series</th>\n",
       "      <th>Date</th>\n",
       "      <th>TimeGPT</th>\n",
       "    </tr>\n",
       "  </thead>\n",
       "  <tbody>\n",
       "    <tr>\n",
       "      <th>0</th>\n",
       "      <td>1</td>\n",
       "      <td>1989-01-01</td>\n",
       "      <td>5121.754395</td>\n",
       "    </tr>\n",
       "    <tr>\n",
       "      <th>1</th>\n",
       "      <td>1</td>\n",
       "      <td>1990-01-01</td>\n",
       "      <td>4974.531738</td>\n",
       "    </tr>\n",
       "    <tr>\n",
       "      <th>2</th>\n",
       "      <td>1</td>\n",
       "      <td>1991-01-01</td>\n",
       "      <td>4750.660156</td>\n",
       "    </tr>\n",
       "    <tr>\n",
       "      <th>3</th>\n",
       "      <td>1</td>\n",
       "      <td>1992-01-01</td>\n",
       "      <td>4366.261719</td>\n",
       "    </tr>\n",
       "    <tr>\n",
       "      <th>4</th>\n",
       "      <td>1</td>\n",
       "      <td>1993-01-01</td>\n",
       "      <td>3914.425781</td>\n",
       "    </tr>\n",
       "  </tbody>\n",
       "</table>\n",
       "</div>"
      ],
      "text/plain": [
       "   Series       Date      TimeGPT\n",
       "0       1 1989-01-01  5121.754395\n",
       "1       1 1990-01-01  4974.531738\n",
       "2       1 1991-01-01  4750.660156\n",
       "3       1 1992-01-01  4366.261719\n",
       "4       1 1993-01-01  3914.425781"
      ]
     },
     "execution_count": 43,
     "metadata": {},
     "output_type": "execute_result"
    }
   ],
   "source": [
    "df_eval.head()"
   ]
  },
  {
   "cell_type": "markdown",
   "metadata": {},
   "source": [
    "## Official Evaluation Metrics\n",
    "Five accuracy measures:\n",
    "1. Symmetric MAPE\n",
    "\n",
    "2. Average Ranking\n",
    "\n",
    "3. Median symmetric APE\n",
    "\n",
    "4. Percentage Better\n",
    "\n",
    "5. Median RAE\n",
    "\n",
    "Forecasting metrics calculations with assist of github repository:\n",
    "https://gist.github.com/bshishov/5dc237f59f019b26145648e2124ca1c9"
   ]
  },
  {
   "cell_type": "code",
   "execution_count": 44,
   "metadata": {},
   "outputs": [],
   "source": [
    "%run '/Users/tomaltenborg/Documents/Master/Master thesis/Notebooks/forecasting_metrics.py'"
   ]
  },
  {
   "cell_type": "markdown",
   "metadata": {},
   "source": [
    "#### NB! When using methods from this file nothing is multiplied with 100 for percentage operations!"
   ]
  },
  {
   "cell_type": "markdown",
   "metadata": {},
   "source": [
    "### Symmetric MAPE (Mean Absolute Percentage Error)\n",
    "The symmetric MAPE fluctuates between -200% and 200%"
   ]
  },
  {
   "cell_type": "code",
   "execution_count": 22,
   "metadata": {},
   "outputs": [],
   "source": [
    "def calculate_smape(actuals, forecasts):\n",
    "    \"\"\"\n",
    "    Calculate the Symmetric Mean Absolute Percentage Error (sMAPE) between two series.\n",
    "\n",
    "    Parameters:\n",
    "    - actuals: array-like, true values\n",
    "    - forecasts: array-like, forecasted values\n",
    "\n",
    "    Returns:\n",
    "    - sMAPE: Symmetric Mean Absolute Percentage Error\n",
    "    \"\"\"\n",
    "    # Convert inputs to numpy arrays for vectorized operations\n",
    "    actuals = np.array(actuals)\n",
    "    forecasts = np.array(forecasts)\n",
    "\n",
    "    # Calculate the nominator and denominator\n",
    "    nominator = np.abs(actuals - forecasts)\n",
    "\n",
    "    # Calculate the sum of actuals and forecasts    \n",
    "    denominator = (actuals + forecasts) / 2\n",
    "\n",
    "    # Calculate smape\n",
    "    smape = sum(nominator / denominator) / len(actuals) * 100\n",
    "\n",
    "    return smape\n"
   ]
  },
  {
   "cell_type": "code",
   "execution_count": 32,
   "metadata": {},
   "outputs": [],
   "source": [
    "def simple_smape(acutals, forecasts):\n",
    "    \"\"\"\n",
    "    Calculate the Symmetric Mean Absolute Percentage Error (sMAPE) between two series.\n",
    "\n",
    "    Parameters:\n",
    "    - actuals: array-like, true values\n",
    "    - forecasts: array-like, forecasted values\n",
    "\n",
    "    Returns:\n",
    "    - sMAPE: Symmetric Mean Absolute Percentage Error\n",
    "    \"\"\"\n",
    "    # Convert inputs to numpy arrays for vectorized operations\n",
    "    acutals = np.array(acutals)\n",
    "    forecasts = np.array(forecasts)\n",
    "    return 100/len(acutals) * np.sum(2 * np.abs(forecasts - acutals) / (np.abs(acutals) + np.abs(forecasts)))"
   ]
  },
  {
   "cell_type": "code",
   "execution_count": 33,
   "metadata": {},
   "outputs": [
    {
     "name": "stdout",
     "output_type": "stream",
     "text": [
      "sMAPE: 3.73281478199511%\n",
      "sMAPE: 3.7328147819951103%\n"
     ]
    }
   ],
   "source": [
    "actuals = np.array([136, 120, 138, 155, 149]) \n",
    "forecasts = np.array([134, 124, 132, 141, 149]) \n",
    "\n",
    "smape1 = calculate_smape(actuals, forecasts)\n",
    "print(f'sMAPE: {smape1}%')\n",
    "\n",
    "smape2 = simple_smape(actuals, forecasts)\n",
    "print(f'sMAPE: {smape2}%')"
   ]
  },
  {
   "cell_type": "code",
   "execution_count": 46,
   "metadata": {},
   "outputs": [
    {
     "name": "stdout",
     "output_type": "stream",
     "text": [
      "sMAPE: 3.732814781993763%\n"
     ]
    }
   ],
   "source": [
    "smape3 = smape(actuals, forecasts)\n",
    "print(f'sMAPE: {smape3*100}%')"
   ]
  },
  {
   "cell_type": "markdown",
   "metadata": {},
   "source": [
    "### Average ranking"
   ]
  },
  {
   "cell_type": "code",
   "execution_count": null,
   "metadata": {},
   "outputs": [],
   "source": []
  },
  {
   "cell_type": "markdown",
   "metadata": {},
   "source": [
    "### Median Symmetric APE"
   ]
  },
  {
   "cell_type": "markdown",
   "metadata": {},
   "source": []
  },
  {
   "cell_type": "markdown",
   "metadata": {},
   "source": [
    "### Median RAE\n"
   ]
  },
  {
   "cell_type": "code",
   "execution_count": 39,
   "metadata": {},
   "outputs": [
    {
     "name": "stdout",
     "output_type": "stream",
     "text": [
      "MDRAE: 0.291666666666522\n"
     ]
    }
   ],
   "source": [
    "mdrae = mdrae(actuals, forecasts)\n",
    "print(f'MDRAE: {mdrae}')"
   ]
  },
  {
   "cell_type": "markdown",
   "metadata": {},
   "source": []
  },
  {
   "cell_type": "code",
   "execution_count": null,
   "metadata": {},
   "outputs": [],
   "source": []
  }
 ],
 "metadata": {
  "kernelspec": {
   "display_name": "Python 3",
   "language": "python",
   "name": "python3"
  },
  "language_info": {
   "codemirror_mode": {
    "name": "ipython",
    "version": 3
   },
   "file_extension": ".py",
   "mimetype": "text/x-python",
   "name": "python",
   "nbconvert_exporter": "python",
   "pygments_lexer": "ipython3",
   "version": "3.11.4"
  }
 },
 "nbformat": 4,
 "nbformat_minor": 2
}
