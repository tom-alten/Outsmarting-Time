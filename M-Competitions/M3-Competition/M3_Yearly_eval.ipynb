{
 "cells": [
  {
   "cell_type": "markdown",
   "metadata": {},
   "source": [
    "## Config"
   ]
  },
  {
   "cell_type": "code",
   "execution_count": 1,
   "metadata": {},
   "outputs": [],
   "source": [
    "import pandas as pd\n",
    "import numpy as np\n",
    "import matplotlib.pyplot as plt\n",
    "pd.set_option('display.max_columns', None)\n",
    "pd.set_option('display.max_rows', 30)"
   ]
  },
  {
   "cell_type": "code",
   "execution_count": 2,
   "metadata": {},
   "outputs": [],
   "source": [
    "df_train = pd.read_parquet('M3_yearly_processed.parquet')\n",
    "df_eval = pd.read_parquet('M3_yearly_simple_forecasts.parquet')"
   ]
  },
  {
   "cell_type": "markdown",
   "metadata": {},
   "source": [
    "## Official Evaluation Metrics\n",
    "Five accuracy measures:\n",
    "1. Symmetric MAPE\n",
    "\n",
    "2. Average Ranking\n",
    "\n",
    "3. Median symmetric APE\n",
    "\n",
    "4. Median RAE\n",
    "\n",
    "5. RMSE (root mean squared error)\n",
    "\n",
    "Forecasting metrics calculations with assist of github repository:\n",
    "https://gist.github.com/bshishov/5dc237f59f019b26145648e2124ca1c9"
   ]
  },
  {
   "cell_type": "code",
   "execution_count": 3,
   "metadata": {},
   "outputs": [],
   "source": [
    "%run '/Users/tomaltenborg/Documents/Master/Master thesis/Notebooks/forecasting_metrics.py'"
   ]
  },
  {
   "cell_type": "markdown",
   "metadata": {},
   "source": [
    "#### NB! When using methods from this file nothing is multiplied with 100 for percentage operations!"
   ]
  },
  {
   "cell_type": "code",
   "execution_count": 4,
   "metadata": {},
   "outputs": [],
   "source": [
    "actuals = np.array([900, 120, 138, 155, 149]) \n",
    "forecasts = np.array([1100, 124, 132, 141, 149]) "
   ]
  },
  {
   "cell_type": "markdown",
   "metadata": {},
   "source": [
    "### Symmetric MAPE (Mean Absolute Percentage Error)\n",
    "The symmetric MAPE fluctuates between -200% and 200%"
   ]
  },
  {
   "cell_type": "code",
   "execution_count": 5,
   "metadata": {},
   "outputs": [
    {
     "name": "stdout",
     "output_type": "stream",
     "text": [
      "sMAPE: 7.44%\n"
     ]
    }
   ],
   "source": [
    "smape_val = smape(actuals, forecasts)\n",
    "print(f'sMAPE: {smape_val * 100:.2f}%')"
   ]
  },
  {
   "cell_type": "markdown",
   "metadata": {},
   "source": [
    "### Median Symmetric APE (median symmetric absolute percentage error)"
   ]
  },
  {
   "cell_type": "code",
   "execution_count": 6,
   "metadata": {},
   "outputs": [
    {
     "name": "stdout",
     "output_type": "stream",
     "text": [
      "sMAPE: 4.44%\n"
     ]
    }
   ],
   "source": [
    "symmetric_ape = smdape(actuals, forecasts)\n",
    "print(f'sMAPE: {symmetric_ape * 100:.2f}%')"
   ]
  },
  {
   "cell_type": "markdown",
   "metadata": {},
   "source": [
    "### Median RAE (relative absolute error)"
   ]
  },
  {
   "cell_type": "code",
   "execution_count": 7,
   "metadata": {},
   "outputs": [
    {
     "name": "stdout",
     "output_type": "stream",
     "text": [
      "MDRAE: 0.17\n"
     ]
    }
   ],
   "source": [
    "mdrae_val = mdrae(actuals, forecasts)\n",
    "print(f'MDRAE: {mdrae_val:.2f}')"
   ]
  },
  {
   "cell_type": "markdown",
   "metadata": {},
   "source": [
    "### RMSE (Root Mean Square Error)"
   ]
  },
  {
   "cell_type": "code",
   "execution_count": 8,
   "metadata": {},
   "outputs": [
    {
     "name": "stdout",
     "output_type": "stream",
     "text": [
      "RMSE: 89.72\n"
     ]
    }
   ],
   "source": [
    "rmse_val = rmse(actuals, forecasts)\n",
    "print(f'RMSE: {rmse_val:.2f}')"
   ]
  },
  {
   "cell_type": "markdown",
   "metadata": {},
   "source": [
    "## Evaluation"
   ]
  },
  {
   "cell_type": "markdown",
   "metadata": {},
   "source": [
    "### Agregated"
   ]
  },
  {
   "cell_type": "code",
   "execution_count": 9,
   "metadata": {},
   "outputs": [],
   "source": [
    "eval_ex1 = df_eval.loc[df_eval['Series'] == 1]\n",
    "train_ex1 = df_train.loc[df_train['Series'] == 1]"
   ]
  },
  {
   "cell_type": "markdown",
   "metadata": {},
   "source": [
    "#### Function that returns all eval metrics specified in competition"
   ]
  },
  {
   "cell_type": "code",
   "execution_count": 10,
   "metadata": {},
   "outputs": [],
   "source": [
    "def all_eval_metrics(merged_df):\n",
    "    \"\"\"\n",
    "    Calculate sMAPE, sMdAPE, MdRAE, and RMSE for each series within a merged DataFrame.\n",
    "    \n",
    "    Args:\n",
    "    - merged_df (pd.DataFrame): DataFrame containing both actual and forecasted values, \n",
    "                                with 'Series', 'Date', 'Value' (actual), and 'TimeGPT' (forecast) columns.\n",
    "    \n",
    "    Returns:\n",
    "    - pd.DataFrame: DataFrame containing the evaluation metrics for each series, along with the series identifier.\n",
    "    \"\"\"\n",
    "    \n",
    "    # Assuming the benchmark model is a naive model (last known value)\n",
    "    # For simplicity, this function uses the last available 'Value' as the benchmark for all points in a series,\n",
    "    # which might not perfectly align with Naïve2 if seasonality adjustments are required.\n",
    "    \n",
    "    results = []  # Initialize an empty list to store the results\n",
    "    \n",
    "    for series_id in merged_df['Series'].unique():\n",
    "        series_data = merged_df[merged_df['Series'] == series_id]\n",
    "        \n",
    "        # Ensure there are no missing values in the series data for calculation\n",
    "        if series_data.dropna(subset=['Value', 'TimeGPT']).empty:\n",
    "            continue\n",
    "        \n",
    "        actuals = series_data['Value'].values\n",
    "        forecasts = series_data['TimeGPT'].values\n",
    "        \n",
    "        # Simplified benchmark (naive forecast) calculation: using the last known value\n",
    "        benchmark = np.full_like(actuals, actuals[-1])\n",
    "        \n",
    "        # Calculate metrics\n",
    "        smape_val = smape(actuals, forecasts)\n",
    "        smdape_val = mdape(actuals, forecasts)\n",
    "        mdrae_val = mdrae(actuals, forecasts, benchmark)\n",
    "        rmse_val = rmse(actuals, forecasts)\n",
    "        \n",
    "        results.append({\n",
    "            'Series': series_id,\n",
    "            'symmetric_MAPE': smape_val,\n",
    "            'Median_APE': smdape_val,\n",
    "            'Median_RAE': mdrae_val,\n",
    "            'RMSE': rmse_val\n",
    "        })\n",
    "    \n",
    "    # Convert the list of results to a DataFrame\n",
    "    return pd.DataFrame(results)"
   ]
  },
  {
   "cell_type": "code",
   "execution_count": 11,
   "metadata": {},
   "outputs": [],
   "source": [
    "df_merged = pd.merge(df_train, df_eval, on=['Series', 'Date'], how='left')"
   ]
  },
  {
   "cell_type": "code",
   "execution_count": 12,
   "metadata": {},
   "outputs": [],
   "source": [
    "df_merged1 = df_merged.dropna(subset=['Value', 'TimeGPT'])"
   ]
  },
  {
   "cell_type": "code",
   "execution_count": 13,
   "metadata": {},
   "outputs": [],
   "source": [
    "eval_metrics_df = all_eval_metrics(df_merged1)"
   ]
  },
  {
   "cell_type": "code",
   "execution_count": 14,
   "metadata": {},
   "outputs": [
    {
     "name": "stdout",
     "output_type": "stream",
     "text": [
      "Series                   323.00\n",
      "symmetric_MAPE             0.24\n",
      "Median_APE                 0.23\n",
      "Median_RAE        3103526984.71\n",
      "RMSE                    1593.61\n",
      "dtype: object\n"
     ]
    }
   ],
   "source": [
    "print(eval_metrics_df.mean().apply(lambda x: f'{x:.2f}'))"
   ]
  },
  {
   "cell_type": "markdown",
   "metadata": {},
   "source": [
    "### With time series steps"
   ]
  },
  {
   "cell_type": "code",
   "execution_count": 15,
   "metadata": {},
   "outputs": [],
   "source": [
    "def eval_metrics_by_step(merged_df):\n",
    "    \"\"\"\n",
    "    Calculate sMAPE, sMdAPE, MdRAE, and RMSE for each forecast step within each series.\n",
    "    \n",
    "    Args:\n",
    "    - merged_df (pd.DataFrame): DataFrame containing both actual and forecasted values,\n",
    "                                with 'Series', 'Date', 'Value' (actual), and 'TimeGPT' (forecast) columns.\n",
    "    \n",
    "    Returns:\n",
    "    - pd.DataFrame: DataFrame containing the evaluation metrics for each forecast step within each series.\n",
    "    \"\"\"\n",
    "    results = []  # Initialize an empty list to store the results\n",
    "    \n",
    "    for series_id in merged_df['Series'].unique():\n",
    "        series_data = merged_df[merged_df['Series'] == series_id]\n",
    "        \n",
    "        # Calculate forecast horizon (assuming consecutive and complete forecast steps for each series)\n",
    "        max_horizon = series_data.shape[0]\n",
    "        \n",
    "        # Iterate over each forecast step\n",
    "        for step in range(1, max_horizon + 1):\n",
    "            # For each step, select only rows up to the current forecast step\n",
    "            step_data = series_data.head(step)\n",
    "            \n",
    "            # Check for sufficient data\n",
    "            if step_data.dropna(subset=['Value', 'TimeGPT']).empty:\n",
    "                continue\n",
    "            \n",
    "            actuals = step_data['Value'].values\n",
    "            forecasts = step_data['TimeGPT'].values\n",
    "            \n",
    "            # Simplified benchmark calculation\n",
    "            benchmark = np.full_like(actuals, actuals[-1])\n",
    "            \n",
    "            # Calculate metrics\n",
    "            smape_val = smape(actuals, forecasts)\n",
    "            smdape_val = mdape(actuals, forecasts)\n",
    "            mdrae_val = mdrae(actuals, forecasts, benchmark)\n",
    "            rmse_val = rmse(actuals, forecasts)\n",
    "            \n",
    "            results.append({\n",
    "                'Series': series_id,\n",
    "                'symmetric_MAPE': smape_val,\n",
    "                'Median_APE': smdape_val,\n",
    "                'Median_RAE': mdrae_val,\n",
    "                'RMSE': rmse_val\n",
    "            })\n",
    "    \n",
    "    # Convert the list of results to a DataFrame\n",
    "    return pd.DataFrame(results)\n"
   ]
  },
  {
   "cell_type": "code",
   "execution_count": 16,
   "metadata": {},
   "outputs": [],
   "source": [
    "step_wise = eval_metrics_by_step(df_merged1)\n"
   ]
  },
  {
   "cell_type": "code",
   "execution_count": 17,
   "metadata": {},
   "outputs": [
    {
     "data": {
      "text/html": [
       "<div>\n",
       "<style scoped>\n",
       "    .dataframe tbody tr th:only-of-type {\n",
       "        vertical-align: middle;\n",
       "    }\n",
       "\n",
       "    .dataframe tbody tr th {\n",
       "        vertical-align: top;\n",
       "    }\n",
       "\n",
       "    .dataframe thead th {\n",
       "        text-align: right;\n",
       "    }\n",
       "</style>\n",
       "<table border=\"1\" class=\"dataframe\">\n",
       "  <thead>\n",
       "    <tr style=\"text-align: right;\">\n",
       "      <th></th>\n",
       "      <th>Series</th>\n",
       "      <th>symmetric_MAPE</th>\n",
       "      <th>Median_APE</th>\n",
       "      <th>Median_RAE</th>\n",
       "      <th>RMSE</th>\n",
       "    </tr>\n",
       "  </thead>\n",
       "  <tbody>\n",
       "    <tr>\n",
       "      <th>0</th>\n",
       "      <td>1</td>\n",
       "      <td>0.049135</td>\n",
       "      <td>0.047957</td>\n",
       "      <td>2.579956e+12</td>\n",
       "      <td>257.995605</td>\n",
       "    </tr>\n",
       "    <tr>\n",
       "      <th>1</th>\n",
       "      <td>1</td>\n",
       "      <td>0.130929</td>\n",
       "      <td>0.120115</td>\n",
       "      <td>5.920741e+12</td>\n",
       "      <td>856.962321</td>\n",
       "    </tr>\n",
       "    <tr>\n",
       "      <th>2</th>\n",
       "      <td>1</td>\n",
       "      <td>0.209179</td>\n",
       "      <td>0.192273</td>\n",
       "      <td>1.649461e+00</td>\n",
       "      <td>1412.834506</td>\n",
       "    </tr>\n",
       "    <tr>\n",
       "      <th>3</th>\n",
       "      <td>1</td>\n",
       "      <td>0.299526</td>\n",
       "      <td>0.250713</td>\n",
       "      <td>1.439518e+00</td>\n",
       "      <td>2129.439361</td>\n",
       "    </tr>\n",
       "    <tr>\n",
       "      <th>4</th>\n",
       "      <td>1</td>\n",
       "      <td>0.385484</td>\n",
       "      <td>0.309154</td>\n",
       "      <td>1.388347e+00</td>\n",
       "      <td>2768.711589</td>\n",
       "    </tr>\n",
       "  </tbody>\n",
       "</table>\n",
       "</div>"
      ],
      "text/plain": [
       "   Series  symmetric_MAPE  Median_APE    Median_RAE         RMSE\n",
       "0       1        0.049135    0.047957  2.579956e+12   257.995605\n",
       "1       1        0.130929    0.120115  5.920741e+12   856.962321\n",
       "2       1        0.209179    0.192273  1.649461e+00  1412.834506\n",
       "3       1        0.299526    0.250713  1.439518e+00  2129.439361\n",
       "4       1        0.385484    0.309154  1.388347e+00  2768.711589"
      ]
     },
     "execution_count": 17,
     "metadata": {},
     "output_type": "execute_result"
    }
   ],
   "source": [
    "step_wise.head()"
   ]
  },
  {
   "cell_type": "code",
   "execution_count": 18,
   "metadata": {},
   "outputs": [
    {
     "name": "stdout",
     "output_type": "stream",
     "text": [
      "Series                      323.00\n",
      "symmetric_MAPE                0.17\n",
      "Median_APE                    0.17\n",
      "Median_RAE        1598739399838.87\n",
      "RMSE                       1064.17\n",
      "dtype: object\n"
     ]
    }
   ],
   "source": [
    "print(step_wise.mean().apply(lambda x: f'{x:.2f}'))"
   ]
  },
  {
   "cell_type": "markdown",
   "metadata": {},
   "source": [
    "### Evaluation of other methods used in the competition"
   ]
  },
  {
   "cell_type": "code",
   "execution_count": 25,
   "metadata": {},
   "outputs": [],
   "source": [
    "def read_all_sheets(excel_path):\n",
    "    \"\"\"\n",
    "    Reads all sheets from an Excel file and combines them into a single DataFrame.\n",
    "    \n",
    "    Args:\n",
    "    - excel_path (str): The path to the Excel file.\n",
    "    \n",
    "    Returns:\n",
    "    - pd.DataFrame: A DataFrame containing the combined data from all sheets.\n",
    "    \"\"\"\n",
    "    # Use pandas to read the Excel file and get sheet names\n",
    "    xls = pd.ExcelFile(excel_path)\n",
    "    \n",
    "    # Initialize an empty list to store DataFrames\n",
    "    dfs = []\n",
    "    \n",
    "    # Iterate over all sheet names\n",
    "    for sheet_name in xls.sheet_names:\n",
    "        # Read the current sheet into a DataFrame\n",
    "        df = pd.read_excel(xls, sheet_name=sheet_name, header=None)\n",
    "        \n",
    "        # Optionally, add a column to indicate the source sheet, if needed\n",
    "        df['Sheet'] = sheet_name\n",
    "        \n",
    "        # Append the DataFrame to the list\n",
    "        dfs.append(df)\n",
    "    \n",
    "    # Concatenate all DataFrames in the list into one\n",
    "    combined_df = pd.concat(dfs, ignore_index=True)\n",
    "    \n",
    "    return combined_df\n",
    "\n",
    "# Usage\n",
    "excel_path = '/Users/tomaltenborg/Documents/Master/Master thesis/Notebooks/M-Competitions/M3-Competition/M3Forecast.xls'\n",
    "combined_df = read_all_sheets(excel_path)"
   ]
  },
  {
   "cell_type": "code",
   "execution_count": 26,
   "metadata": {},
   "outputs": [
    {
     "data": {
      "text/html": [
       "<div>\n",
       "<style scoped>\n",
       "    .dataframe tbody tr th:only-of-type {\n",
       "        vertical-align: middle;\n",
       "    }\n",
       "\n",
       "    .dataframe tbody tr th {\n",
       "        vertical-align: top;\n",
       "    }\n",
       "\n",
       "    .dataframe thead th {\n",
       "        text-align: right;\n",
       "    }\n",
       "</style>\n",
       "<table border=\"1\" class=\"dataframe\">\n",
       "  <thead>\n",
       "    <tr style=\"text-align: right;\">\n",
       "      <th></th>\n",
       "      <th>Sheet</th>\n",
       "      <th>NF</th>\n",
       "      <th>Series</th>\n",
       "      <th>ForecastPeriod</th>\n",
       "      <th>value</th>\n",
       "    </tr>\n",
       "  </thead>\n",
       "  <tbody>\n",
       "    <tr>\n",
       "      <th>66066</th>\n",
       "      <td>AAM1</td>\n",
       "      <td>8</td>\n",
       "      <td>646</td>\n",
       "      <td>1</td>\n",
       "      <td>5588.9</td>\n",
       "    </tr>\n",
       "    <tr>\n",
       "      <th>136500</th>\n",
       "      <td>AAM1</td>\n",
       "      <td>8</td>\n",
       "      <td>646</td>\n",
       "      <td>2</td>\n",
       "      <td>5666.9</td>\n",
       "    </tr>\n",
       "    <tr>\n",
       "      <th>206934</th>\n",
       "      <td>AAM1</td>\n",
       "      <td>8</td>\n",
       "      <td>646</td>\n",
       "      <td>3</td>\n",
       "      <td>5745.4</td>\n",
       "    </tr>\n",
       "    <tr>\n",
       "      <th>277368</th>\n",
       "      <td>AAM1</td>\n",
       "      <td>8</td>\n",
       "      <td>646</td>\n",
       "      <td>4</td>\n",
       "      <td>5824.4</td>\n",
       "    </tr>\n",
       "    <tr>\n",
       "      <th>347802</th>\n",
       "      <td>AAM1</td>\n",
       "      <td>8</td>\n",
       "      <td>646</td>\n",
       "      <td>5</td>\n",
       "      <td>5903.9</td>\n",
       "    </tr>\n",
       "  </tbody>\n",
       "</table>\n",
       "</div>"
      ],
      "text/plain": [
       "       Sheet  NF  Series ForecastPeriod   value\n",
       "66066   AAM1   8     646              1  5588.9\n",
       "136500  AAM1   8     646              2  5666.9\n",
       "206934  AAM1   8     646              3  5745.4\n",
       "277368  AAM1   8     646              4  5824.4\n",
       "347802  AAM1   8     646              5  5903.9"
      ]
     },
     "execution_count": 26,
     "metadata": {},
     "output_type": "execute_result"
    }
   ],
   "source": [
    "# Rename columns\n",
    "combined_df.rename(columns = {0 : 'Series', 1 : 'NF'}, inplace = True)\n",
    "\n",
    "# Change series to int in the same fashion as the other dataframes\n",
    "combined_df['Series'] = combined_df['Series'].str.replace('N', '')\n",
    "combined_df['Series'] = combined_df['Series'].str.replace(' ', '')\n",
    "combined_df['Series'] = combined_df['Series'].astype(int)\n",
    "\n",
    "# Change position of sheet column\n",
    "cols = combined_df.columns.tolist()\n",
    "cols = cols[-1:] + cols[:-1]\n",
    "combined_df = combined_df[cols]\n",
    "\n",
    "# Rename columns so that 1 is the first forecast period\n",
    "combined_df.rename(columns=lambda x: x - 1 if isinstance(x, int) else x, inplace=True)\n",
    "\n",
    "# Melt the dataframe i.e. unpivot\n",
    "df_long = pd.melt(combined_df, id_vars=['Sheet', 'NF' , 'Series'], value_name='value', var_name='ForecastPeriod')   \n",
    "\n",
    "# Sort the dataframe\n",
    "df_long_sorted = df_long.sort_values(by=['Sheet', 'Series', 'ForecastPeriod'])\n",
    "df_long_sorted.head()"
   ]
  },
  {
   "cell_type": "code",
   "execution_count": 52,
   "metadata": {},
   "outputs": [
    {
     "name": "stdout",
     "output_type": "stream",
     "text": [
      "1267812\n",
      "255420\n",
      "255420\n",
      "[1 2 3 4 5 6 7 8 9 10 11 12 13 14 15 16 17 18]\n"
     ]
    }
   ],
   "source": [
    "print(len(df_long_sorted))\n",
    "print(len(df_long_sorted.loc[df_long_sorted['NF'] == 6]))\n",
    "print(len(df_long_sorted.query('Series <= 645')))\n",
    "print(df_long_sorted['ForecastPeriod'].unique())"
   ]
  },
  {
   "cell_type": "code",
   "execution_count": 22,
   "metadata": {},
   "outputs": [
    {
     "name": "stdout",
     "output_type": "stream",
     "text": [
      "24\n"
     ]
    }
   ],
   "source": [
    "print(len(df_long_sorted['Sheet'].unique()))"
   ]
  },
  {
   "cell_type": "code",
   "execution_count": 23,
   "metadata": {},
   "outputs": [
    {
     "name": "stdout",
     "output_type": "stream",
     "text": [
      "255420\n",
      "15480\n"
     ]
    }
   ],
   "source": [
    "df_long_sorted = df_long_sorted.loc[df_long_sorted['NF'] == 6]\n",
    "print(len(df_long_sorted))\n",
    "print(645*24)"
   ]
  },
  {
   "cell_type": "code",
   "execution_count": 43,
   "metadata": {},
   "outputs": [
    {
     "name": "stdout",
     "output_type": "stream",
     "text": [
      "<class 'pandas.core.frame.DataFrame'>\n",
      "RangeIndex: 30315 entries, 0 to 30314\n",
      "Data columns (total 6 columns):\n",
      " #   Column    Non-Null Count  Dtype         \n",
      "---  ------    --------------  -----         \n",
      " 0   Series    30315 non-null  int64         \n",
      " 1   N         30315 non-null  int64         \n",
      " 2   NF        30315 non-null  int64         \n",
      " 3   Category  30315 non-null  object        \n",
      " 4   Value     18319 non-null  float64       \n",
      " 5   Date      30315 non-null  datetime64[ns]\n",
      "dtypes: datetime64[ns](1), float64(1), int64(3), object(1)\n",
      "memory usage: 1.4+ MB\n"
     ]
    }
   ],
   "source": [
    "df_train.info()"
   ]
  },
  {
   "cell_type": "code",
   "execution_count": 49,
   "metadata": {},
   "outputs": [
    {
     "data": {
      "text/html": [
       "<div>\n",
       "<style scoped>\n",
       "    .dataframe tbody tr th:only-of-type {\n",
       "        vertical-align: middle;\n",
       "    }\n",
       "\n",
       "    .dataframe tbody tr th {\n",
       "        vertical-align: top;\n",
       "    }\n",
       "\n",
       "    .dataframe thead th {\n",
       "        text-align: right;\n",
       "    }\n",
       "</style>\n",
       "<table border=\"1\" class=\"dataframe\">\n",
       "  <thead>\n",
       "    <tr style=\"text-align: right;\">\n",
       "      <th></th>\n",
       "      <th>Series</th>\n",
       "      <th>N</th>\n",
       "      <th>NF</th>\n",
       "      <th>Category</th>\n",
       "      <th>Value</th>\n",
       "      <th>Date</th>\n",
       "    </tr>\n",
       "  </thead>\n",
       "  <tbody>\n",
       "    <tr>\n",
       "      <th>3101</th>\n",
       "      <td>66</td>\n",
       "      <td>20</td>\n",
       "      <td>6</td>\n",
       "      <td>MICRO</td>\n",
       "      <td>NaN</td>\n",
       "      <td>2021-01-01</td>\n",
       "    </tr>\n",
       "    <tr>\n",
       "      <th>2443</th>\n",
       "      <td>52</td>\n",
       "      <td>20</td>\n",
       "      <td>6</td>\n",
       "      <td>MICRO</td>\n",
       "      <td>NaN</td>\n",
       "      <td>2021-01-01</td>\n",
       "    </tr>\n",
       "    <tr>\n",
       "      <th>3947</th>\n",
       "      <td>84</td>\n",
       "      <td>20</td>\n",
       "      <td>6</td>\n",
       "      <td>MICRO</td>\n",
       "      <td>NaN</td>\n",
       "      <td>2021-01-01</td>\n",
       "    </tr>\n",
       "    <tr>\n",
       "      <th>6344</th>\n",
       "      <td>135</td>\n",
       "      <td>20</td>\n",
       "      <td>6</td>\n",
       "      <td>MICRO</td>\n",
       "      <td>NaN</td>\n",
       "      <td>2021-01-01</td>\n",
       "    </tr>\n",
       "    <tr>\n",
       "      <th>751</th>\n",
       "      <td>16</td>\n",
       "      <td>20</td>\n",
       "      <td>6</td>\n",
       "      <td>MICRO</td>\n",
       "      <td>NaN</td>\n",
       "      <td>2021-01-01</td>\n",
       "    </tr>\n",
       "    <tr>\n",
       "      <th>...</th>\n",
       "      <td>...</td>\n",
       "      <td>...</td>\n",
       "      <td>...</td>\n",
       "      <td>...</td>\n",
       "      <td>...</td>\n",
       "      <td>...</td>\n",
       "    </tr>\n",
       "    <tr>\n",
       "      <th>30084</th>\n",
       "      <td>641</td>\n",
       "      <td>36</td>\n",
       "      <td>6</td>\n",
       "      <td>OTHER</td>\n",
       "      <td>4510.0</td>\n",
       "      <td>1815-01-01</td>\n",
       "    </tr>\n",
       "    <tr>\n",
       "      <th>30083</th>\n",
       "      <td>641</td>\n",
       "      <td>36</td>\n",
       "      <td>6</td>\n",
       "      <td>OTHER</td>\n",
       "      <td>3820.0</td>\n",
       "      <td>1814-01-01</td>\n",
       "    </tr>\n",
       "    <tr>\n",
       "      <th>30082</th>\n",
       "      <td>641</td>\n",
       "      <td>36</td>\n",
       "      <td>6</td>\n",
       "      <td>OTHER</td>\n",
       "      <td>5020.0</td>\n",
       "      <td>1813-01-01</td>\n",
       "    </tr>\n",
       "    <tr>\n",
       "      <th>30081</th>\n",
       "      <td>641</td>\n",
       "      <td>36</td>\n",
       "      <td>6</td>\n",
       "      <td>OTHER</td>\n",
       "      <td>4970.0</td>\n",
       "      <td>1812-01-01</td>\n",
       "    </tr>\n",
       "    <tr>\n",
       "      <th>30080</th>\n",
       "      <td>641</td>\n",
       "      <td>36</td>\n",
       "      <td>6</td>\n",
       "      <td>OTHER</td>\n",
       "      <td>5980.0</td>\n",
       "      <td>1811-01-01</td>\n",
       "    </tr>\n",
       "  </tbody>\n",
       "</table>\n",
       "<p>30315 rows × 6 columns</p>\n",
       "</div>"
      ],
      "text/plain": [
       "       Series   N  NF      Category   Value       Date\n",
       "3101       66  20   6  MICRO            NaN 2021-01-01\n",
       "2443       52  20   6  MICRO            NaN 2021-01-01\n",
       "3947       84  20   6  MICRO            NaN 2021-01-01\n",
       "6344      135  20   6  MICRO            NaN 2021-01-01\n",
       "751        16  20   6  MICRO            NaN 2021-01-01\n",
       "...       ...  ..  ..           ...     ...        ...\n",
       "30084     641  36   6  OTHER         4510.0 1815-01-01\n",
       "30083     641  36   6  OTHER         3820.0 1814-01-01\n",
       "30082     641  36   6  OTHER         5020.0 1813-01-01\n",
       "30081     641  36   6  OTHER         4970.0 1812-01-01\n",
       "30080     641  36   6  OTHER         5980.0 1811-01-01\n",
       "\n",
       "[30315 rows x 6 columns]"
      ]
     },
     "execution_count": 49,
     "metadata": {},
     "output_type": "execute_result"
    }
   ],
   "source": [
    "df_train.sort_values(by = 'Date', ascending = False)"
   ]
  },
  {
   "cell_type": "code",
   "execution_count": 69,
   "metadata": {},
   "outputs": [],
   "source": [
    "def calculate_all_eval_previous_methods(actuals_df, forecasts):\n",
    "    results = []\n",
    "    for sheet_name in forecasts['Sheet'].unique():\n",
    "        \n",
    "        sheet_data = forecasts[forecasts['Sheet'] == sheet_name]\n",
    "        \n",
    "        for series_id in sheet_data['Series'].unique():\n",
    "            \n",
    "            forecast_data = sheet_data[sheet_data['Series'] == series_id]\n",
    "            forecast_values = np.array(forecast_data['value'])\n",
    "\n",
    "            # Filter actuals for the series_id and sort by date in descending order\n",
    "            actuals_series = actuals_df[actuals_df['Series'] == series_id].sort_values(by='Date', ascending=False).dropna(subset=['Value'])\n",
    "\n",
    "            # Select only the top 6 rows as the actual values\n",
    "            actuals_series = actuals_series.head(6)\n",
    "            category = actuals_series['Category'].values[0]\n",
    "\n",
    "            # Ensure actuals_series is not empty\n",
    "            if actuals_series.empty:\n",
    "                print(f\"Warning: No actual values found for series {series_id} in sheet {sheet_name}. Skipping.\")\n",
    "                continue\n",
    "\n",
    "            actual_values = np.array(actuals_series['Value'])\n",
    "\n",
    "            # Ensure forecast_values and actual_values have the same length\n",
    "            if len(forecast_values) != len(actual_values):\n",
    "                print(f\"Warning: Mismatch in lengths for series {series_id}. Actuals: {len(actual_values)}, Forecasts: {len(forecast_values)}. Skipping.\")\n",
    "                continue\n",
    "\n",
    "            benchmark = np.full_like(actual_values, actual_values[-1])\n",
    "            \n",
    "            # Assuming you have correctly defined smape, smdape, mdrae, rmse functions\n",
    "            smape_val = smape(actual_values, forecast_values)\n",
    "            smdape_val = smdape(actual_values, forecast_values)\n",
    "            mdrae_val = mdrae(actual_values, forecast_values, benchmark)\n",
    "            rmse_val = rmse(actual_values, forecast_values)\n",
    "\n",
    "            results.append({\n",
    "                'Series': series_id,\n",
    "                'symmetric_MAPE': smape_val,\n",
    "                'Median_APE': smdape_val,\n",
    "                'Median_RAE': mdrae_val,\n",
    "                'RMSE': rmse_val,\n",
    "                'Method': sheet_name,\n",
    "                'Category': category\n",
    "            })\n",
    "\n",
    "    return pd.DataFrame(results)\n"
   ]
  },
  {
   "cell_type": "code",
   "execution_count": 70,
   "metadata": {},
   "outputs": [
    {
     "name": "stdout",
     "output_type": "stream",
     "text": [
      "[1 2 3 4 5 6]\n",
      "645\n"
     ]
    },
    {
     "name": "stderr",
     "output_type": "stream",
     "text": [
      "<ipython-input-70-86210245099a>:2: SettingWithCopyWarning: \n",
      "A value is trying to be set on a copy of a slice from a DataFrame\n",
      "\n",
      "See the caveats in the documentation: https://pandas.pydata.org/pandas-docs/stable/user_guide/indexing.html#returning-a-view-versus-a-copy\n",
      "  df_forecast.dropna(subset=['value'], inplace=True)\n"
     ]
    }
   ],
   "source": [
    "df_forecast = df_long_sorted.query('Series <= 645')\n",
    "df_forecast.dropna(subset=['value'], inplace=True)\n",
    "print(df_forecast['ForecastPeriod'].unique())\n",
    "print(df_forecast['Series'].max())"
   ]
  },
  {
   "cell_type": "code",
   "execution_count": 71,
   "metadata": {},
   "outputs": [
    {
     "name": "stdout",
     "output_type": "stream",
     "text": [
      "85140\n",
      "85140\n"
     ]
    }
   ],
   "source": [
    "print(len(df_forecast))\n",
    "print(len(df_forecast.dropna(subset=['value'])))"
   ]
  },
  {
   "cell_type": "code",
   "execution_count": 72,
   "metadata": {},
   "outputs": [],
   "source": [
    "test1 = calculate_all_eval_previous_methods(df_train, df_forecast)"
   ]
  },
  {
   "cell_type": "code",
   "execution_count": 73,
   "metadata": {},
   "outputs": [
    {
     "data": {
      "text/html": [
       "<div>\n",
       "<style scoped>\n",
       "    .dataframe tbody tr th:only-of-type {\n",
       "        vertical-align: middle;\n",
       "    }\n",
       "\n",
       "    .dataframe tbody tr th {\n",
       "        vertical-align: top;\n",
       "    }\n",
       "\n",
       "    .dataframe thead th {\n",
       "        text-align: right;\n",
       "    }\n",
       "</style>\n",
       "<table border=\"1\" class=\"dataframe\">\n",
       "  <thead>\n",
       "    <tr style=\"text-align: right;\">\n",
       "      <th></th>\n",
       "      <th>Series</th>\n",
       "      <th>symmetric_MAPE</th>\n",
       "      <th>Median_APE</th>\n",
       "      <th>Median_RAE</th>\n",
       "      <th>RMSE</th>\n",
       "      <th>Method</th>\n",
       "      <th>Category</th>\n",
       "    </tr>\n",
       "  </thead>\n",
       "  <tbody>\n",
       "    <tr>\n",
       "      <th>0</th>\n",
       "      <td>1</td>\n",
       "      <td>0.333086</td>\n",
       "      <td>0.328978</td>\n",
       "      <td>0.833916</td>\n",
       "      <td>2833.952929</td>\n",
       "      <td>ARARMA</td>\n",
       "      <td>MICRO</td>\n",
       "    </tr>\n",
       "    <tr>\n",
       "      <th>1</th>\n",
       "      <td>2</td>\n",
       "      <td>0.144407</td>\n",
       "      <td>0.145318</td>\n",
       "      <td>2.344295</td>\n",
       "      <td>747.165698</td>\n",
       "      <td>ARARMA</td>\n",
       "      <td>MICRO</td>\n",
       "    </tr>\n",
       "    <tr>\n",
       "      <th>2</th>\n",
       "      <td>3</td>\n",
       "      <td>0.090106</td>\n",
       "      <td>0.058078</td>\n",
       "      <td>0.588509</td>\n",
       "      <td>377.950772</td>\n",
       "      <td>ARARMA</td>\n",
       "      <td>MICRO</td>\n",
       "    </tr>\n",
       "    <tr>\n",
       "      <th>3</th>\n",
       "      <td>4</td>\n",
       "      <td>0.098077</td>\n",
       "      <td>0.057017</td>\n",
       "      <td>0.581499</td>\n",
       "      <td>770.718238</td>\n",
       "      <td>ARARMA</td>\n",
       "      <td>MICRO</td>\n",
       "    </tr>\n",
       "    <tr>\n",
       "      <th>4</th>\n",
       "      <td>5</td>\n",
       "      <td>0.167523</td>\n",
       "      <td>0.175940</td>\n",
       "      <td>1.314977</td>\n",
       "      <td>930.410174</td>\n",
       "      <td>ARARMA</td>\n",
       "      <td>MICRO</td>\n",
       "    </tr>\n",
       "  </tbody>\n",
       "</table>\n",
       "</div>"
      ],
      "text/plain": [
       "   Series  symmetric_MAPE  Median_APE  Median_RAE         RMSE  Method  \\\n",
       "0       1        0.333086    0.328978    0.833916  2833.952929  ARARMA   \n",
       "1       2        0.144407    0.145318    2.344295   747.165698  ARARMA   \n",
       "2       3        0.090106    0.058078    0.588509   377.950772  ARARMA   \n",
       "3       4        0.098077    0.057017    0.581499   770.718238  ARARMA   \n",
       "4       5        0.167523    0.175940    1.314977   930.410174  ARARMA   \n",
       "\n",
       "       Category  \n",
       "0  MICRO         \n",
       "1  MICRO         \n",
       "2  MICRO         \n",
       "3  MICRO         \n",
       "4  MICRO         "
      ]
     },
     "execution_count": 73,
     "metadata": {},
     "output_type": "execute_result"
    }
   ],
   "source": [
    "test1.head()"
   ]
  },
  {
   "cell_type": "code",
   "execution_count": 75,
   "metadata": {},
   "outputs": [],
   "source": [
    "grouped_test = test1.groupby(['Method', 'Category']).mean()\n"
   ]
  },
  {
   "cell_type": "code",
   "execution_count": 79,
   "metadata": {},
   "outputs": [
    {
     "data": {
      "text/html": [
       "<div>\n",
       "<style scoped>\n",
       "    .dataframe tbody tr th:only-of-type {\n",
       "        vertical-align: middle;\n",
       "    }\n",
       "\n",
       "    .dataframe tbody tr th {\n",
       "        vertical-align: top;\n",
       "    }\n",
       "\n",
       "    .dataframe thead th {\n",
       "        text-align: right;\n",
       "    }\n",
       "</style>\n",
       "<table border=\"1\" class=\"dataframe\">\n",
       "  <thead>\n",
       "    <tr style=\"text-align: right;\">\n",
       "      <th></th>\n",
       "      <th></th>\n",
       "      <th>Series</th>\n",
       "      <th>symmetric_MAPE</th>\n",
       "      <th>Median_APE</th>\n",
       "      <th>Median_RAE</th>\n",
       "      <th>RMSE</th>\n",
       "    </tr>\n",
       "    <tr>\n",
       "      <th>Method</th>\n",
       "      <th>Category</th>\n",
       "      <th></th>\n",
       "      <th></th>\n",
       "      <th></th>\n",
       "      <th></th>\n",
       "      <th></th>\n",
       "    </tr>\n",
       "  </thead>\n",
       "  <tbody>\n",
       "    <tr>\n",
       "      <th rowspan=\"5\" valign=\"top\">ARARMA</th>\n",
       "      <th>DEMOGRAPHIC</th>\n",
       "      <td>512.0</td>\n",
       "      <td>0.134174</td>\n",
       "      <td>0.132425</td>\n",
       "      <td>2.865324</td>\n",
       "      <td>984.581023</td>\n",
       "    </tr>\n",
       "    <tr>\n",
       "      <th>FINANCE</th>\n",
       "      <td>360.5</td>\n",
       "      <td>0.345711</td>\n",
       "      <td>0.333712</td>\n",
       "      <td>8.087660</td>\n",
       "      <td>5468.235359</td>\n",
       "    </tr>\n",
       "    <tr>\n",
       "      <th>INDUSTRY</th>\n",
       "      <td>197.5</td>\n",
       "      <td>0.224895</td>\n",
       "      <td>0.219684</td>\n",
       "      <td>2.899646</td>\n",
       "      <td>1499.560061</td>\n",
       "    </tr>\n",
       "    <tr>\n",
       "      <th>MACRO</th>\n",
       "      <td>290.0</td>\n",
       "      <td>0.119676</td>\n",
       "      <td>0.118339</td>\n",
       "      <td>1.690391</td>\n",
       "      <td>837.430946</td>\n",
       "    </tr>\n",
       "    <tr>\n",
       "      <th>MICRO</th>\n",
       "      <td>73.5</td>\n",
       "      <td>0.354634</td>\n",
       "      <td>0.342994</td>\n",
       "      <td>4.047768</td>\n",
       "      <td>3976.572857</td>\n",
       "    </tr>\n",
       "    <tr>\n",
       "      <th>...</th>\n",
       "      <th>...</th>\n",
       "      <td>...</td>\n",
       "      <td>...</td>\n",
       "      <td>...</td>\n",
       "      <td>...</td>\n",
       "      <td>...</td>\n",
       "    </tr>\n",
       "    <tr>\n",
       "      <th rowspan=\"5\" valign=\"top\">WINTER</th>\n",
       "      <th>FINANCE</th>\n",
       "      <td>360.5</td>\n",
       "      <td>0.321601</td>\n",
       "      <td>0.299176</td>\n",
       "      <td>6.131298</td>\n",
       "      <td>3576.055529</td>\n",
       "    </tr>\n",
       "    <tr>\n",
       "      <th>INDUSTRY</th>\n",
       "      <td>197.5</td>\n",
       "      <td>0.245669</td>\n",
       "      <td>0.243842</td>\n",
       "      <td>2.869529</td>\n",
       "      <td>1411.483204</td>\n",
       "    </tr>\n",
       "    <tr>\n",
       "      <th>MACRO</th>\n",
       "      <td>290.0</td>\n",
       "      <td>0.115077</td>\n",
       "      <td>0.114486</td>\n",
       "      <td>1.438396</td>\n",
       "      <td>799.663965</td>\n",
       "    </tr>\n",
       "    <tr>\n",
       "      <th>MICRO</th>\n",
       "      <td>73.5</td>\n",
       "      <td>0.345577</td>\n",
       "      <td>0.335870</td>\n",
       "      <td>3.840855</td>\n",
       "      <td>2744.385837</td>\n",
       "    </tr>\n",
       "    <tr>\n",
       "      <th>OTHER</th>\n",
       "      <td>640.0</td>\n",
       "      <td>0.242551</td>\n",
       "      <td>0.232474</td>\n",
       "      <td>2.028608</td>\n",
       "      <td>1429.166305</td>\n",
       "    </tr>\n",
       "  </tbody>\n",
       "</table>\n",
       "<p>132 rows × 5 columns</p>\n",
       "</div>"
      ],
      "text/plain": [
       "                     Series  symmetric_MAPE  Median_APE  Median_RAE  \\\n",
       "Method Category                                                       \n",
       "ARARMA DEMOGRAPHIC    512.0        0.134174    0.132425    2.865324   \n",
       "       FINANCE        360.5        0.345711    0.333712    8.087660   \n",
       "       INDUSTRY       197.5        0.224895    0.219684    2.899646   \n",
       "       MACRO          290.0        0.119676    0.118339    1.690391   \n",
       "       MICRO           73.5        0.354634    0.342994    4.047768   \n",
       "...                     ...             ...         ...         ...   \n",
       "WINTER FINANCE        360.5        0.321601    0.299176    6.131298   \n",
       "       INDUSTRY       197.5        0.245669    0.243842    2.869529   \n",
       "       MACRO          290.0        0.115077    0.114486    1.438396   \n",
       "       MICRO           73.5        0.345577    0.335870    3.840855   \n",
       "       OTHER          640.0        0.242551    0.232474    2.028608   \n",
       "\n",
       "                            RMSE  \n",
       "Method Category                   \n",
       "ARARMA DEMOGRAPHIC    984.581023  \n",
       "       FINANCE       5468.235359  \n",
       "       INDUSTRY      1499.560061  \n",
       "       MACRO          837.430946  \n",
       "       MICRO         3976.572857  \n",
       "...                          ...  \n",
       "WINTER FINANCE       3576.055529  \n",
       "       INDUSTRY      1411.483204  \n",
       "       MACRO          799.663965  \n",
       "       MICRO         2744.385837  \n",
       "       OTHER         1429.166305  \n",
       "\n",
       "[132 rows x 5 columns]"
      ]
     },
     "execution_count": 79,
     "metadata": {},
     "output_type": "execute_result"
    }
   ],
   "source": [
    "grouped_test"
   ]
  }
 ],
 "metadata": {
  "kernelspec": {
   "display_name": "Python 3",
   "language": "python",
   "name": "python3"
  },
  "language_info": {
   "codemirror_mode": {
    "name": "ipython",
    "version": 3
   },
   "file_extension": ".py",
   "mimetype": "text/x-python",
   "name": "python",
   "nbconvert_exporter": "python",
   "pygments_lexer": "ipython3",
   "version": "3.11.4"
  }
 },
 "nbformat": 4,
 "nbformat_minor": 2
}
