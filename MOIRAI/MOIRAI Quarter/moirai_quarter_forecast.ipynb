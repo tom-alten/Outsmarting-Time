{
 "cells": [
  {
   "cell_type": "markdown",
   "metadata": {},
   "source": [
    "### Config"
   ]
  },
  {
   "cell_type": "code",
   "execution_count": 1,
   "metadata": {},
   "outputs": [
    {
     "name": "stderr",
     "output_type": "stream",
     "text": [
      "/Users/tomaltenborg/anaconda3/lib/python3.11/site-packages/torchvision/io/image.py:13: UserWarning: Failed to load image Python extension: 'dlopen(/Users/tomaltenborg/anaconda3/lib/python3.11/site-packages/torchvision/image.so, 0x0006): Symbol not found: __ZN3c1017RegisterOperatorsD1Ev\n",
      "  Referenced from: <2BD1B165-EC09-3F68-BCE4-8FE4E70CA7E2> /Users/tomaltenborg/anaconda3/lib/python3.11/site-packages/torchvision/image.so\n",
      "  Expected in:     <F8622D92-25A9-3A61-A089-C917FDA36C1B> /Users/tomaltenborg/anaconda3/lib/python3.11/site-packages/torch/lib/libtorch_cpu.dylib'If you don't plan on using image functionality from `torchvision.io`, you can ignore this warning. Otherwise, there might be something wrong with your environment. Did you have `libjpeg` or `libpng` installed before building `torchvision` from source?\n",
      "  warn(\n"
     ]
    }
   ],
   "source": [
    "import numpy as np\n",
    "import pandas as pd\n",
    "pd.set_option('display.max_columns', None)\n",
    "from huggingface_hub import hf_hub_download\n",
    "import torch\n",
    "from uni2ts.eval_util.plot import plot_single, plot_next_multi\n",
    "from uni2ts.model.moirai import MoiraiForecast\n",
    "from gluonts.dataset.pandas import PandasDataset\n",
    "from gluonts.dataset.split import split"
   ]
  },
  {
   "cell_type": "code",
   "execution_count": 2,
   "metadata": {},
   "outputs": [],
   "source": [
    "SIZE = \"base\"  # model size: choose from {'small', 'base', 'large'}\n",
    "PSZ = \"auto\"  # patch size: choose from {\"auto\", 8, 16, 32, 64, 128}\n",
    "BSZ = 32  # batch size: any positive integer"
   ]
  },
  {
   "cell_type": "markdown",
   "metadata": {},
   "source": [
    "### Data"
   ]
  },
  {
   "cell_type": "code",
   "execution_count": 64,
   "metadata": {},
   "outputs": [],
   "source": [
    "quarter = pd.read_parquet('/Users/tomaltenborg/Documents/Master/Master thesis/Notebooks/M3 Data/M3_quarter_processed.parquet')"
   ]
  },
  {
   "cell_type": "markdown",
   "metadata": {},
   "source": [
    "## Produce and store forecasts"
   ]
  },
  {
   "cell_type": "code",
   "execution_count": 61,
   "metadata": {},
   "outputs": [
    {
     "name": "stdout",
     "output_type": "stream",
     "text": [
      "36\n",
      "44\n",
      "40\n"
     ]
    }
   ],
   "source": [
    "# Initialize an empty DataFrame to store all forecasts\n",
    "complete_df = pd.DataFrame()\n",
    "\n",
    "counter = 0\n",
    "\n",
    "for series in quarter['Series'].unique():\n",
    "    # Filter and prepare data for the model\n",
    "    filtered_temp = quarter[quarter['Series'] == series]\n",
    "    N = filtered_temp['N'].iloc[0]\n",
    "    NF = filtered_temp['NF'].iloc[0]\n",
    "    \n",
    "    # Prepare the dataset, keeping only the first N-NF records for training\n",
    "    filtered_df = filtered_temp.iloc[:N-NF]\n",
    "    filtered_df = filtered_df[['Series', 'Date', 'Value']]\n",
    "\n",
    "    filtered_df['Date'] = pd.to_datetime(filtered_df['Date']) \n",
    "\n",
    "    # Set the 'date' column to year end\n",
    "    filtered_df['Date'] = filtered_df['Date'] + pd.offsets.QuarterEnd() #IMPORTANT has to be end, cannot be begining\n",
    "\n",
    "    filtered_df.set_index('Date', inplace=True)\n",
    "\n",
    "    # Convert into a GluonTS dataset\n",
    "    ds = PandasDataset.from_long_dataframe(filtered_df, item_id='Series', target='Value')\n",
    "\n",
    "    # Load and prepare the model\n",
    "    model = MoiraiForecast.load_from_checkpoint(\n",
    "        checkpoint_path=hf_hub_download(\n",
    "            repo_id=f\"Salesforce/moirai-1.0-R-{SIZE}\", filename=\"model.ckpt\"\n",
    "        ),\n",
    "        prediction_length=NF,\n",
    "        context_length=N,\n",
    "        patch_size=PSZ,\n",
    "        num_samples=20, #return 20 distributions for each time point\n",
    "        target_dim=1,\n",
    "        feat_dynamic_real_dim=ds.num_feat_dynamic_real,\n",
    "        past_feat_dynamic_real_dim=ds.num_past_feat_dynamic_real,\n",
    "        map_location=\"cuda:0\" if torch.cuda.is_available() else \"cpu\",\n",
    "    )\n",
    "\n",
    "    predictor = model.create_predictor(batch_size=BSZ)\n",
    "    forecasts = predictor.predict(ds)\n",
    "\n",
    "    counter += 1\n",
    "    # Handle forecast output\n",
    "    for forecast in forecasts:\n",
    "        samples = forecast.samples\n",
    "        item_id = forecast.item_id\n",
    "        start_date = pd.Period(forecast.start_date, freq=forecast.start_date.freq)\n",
    "        forecast_horizon = samples.shape[1]\n",
    "\n",
    "        # Create a date range for the forecasts\n",
    "        date_range = pd.period_range(start=start_date, periods=forecast_horizon, freq=start_date.freq)\n",
    "\n",
    "        # Calculate the median of the samples at each time point\n",
    "        medians = np.median(samples, axis=0)\n",
    "\n",
    "        # Create the DataFrame for current forecast\n",
    "        forecast_df = pd.DataFrame({\n",
    "            'Date': date_range,\n",
    "            'Series': item_id,\n",
    "            'Median_Forecast': medians\n",
    "        })\n",
    "\n",
    "        # Append to the complete DataFrame\n",
    "        complete_df = pd.concat([complete_df, forecast_df], ignore_index=True)\n",
    "    # Simple print statement to track progress    \n",
    "    if counter > 100:\n",
    "        print('Finished 100 forecasts')\n",
    "        counter = 0\n",
    "\n",
    "complete_df.reset_index(drop=True, inplace=True)"
   ]
  },
  {
   "cell_type": "code",
   "execution_count": 62,
   "metadata": {},
   "outputs": [],
   "source": [
    "# Define a function to convert quarter strings to datetime\n",
    "def quarter_to_date(quarter_str):\n",
    "    year, quarter = int(quarter_str[:4]), int(quarter_str[-1])\n",
    "    first_month_of_quarter = 3 * quarter - 2\n",
    "    return pd.Timestamp(year=year, month=first_month_of_quarter, day=1)\n",
    "\n",
    "complete_df['Date'] = complete_df['Date'].astype(str)\n",
    "complete_df['Date'] = complete_df['Date'].apply(quarter_to_date)\n",
    "# Ensure it is the same date format as TimeGPT for eaiser evaluation\n",
    "complete_df['Date'] = pd.to_datetime(complete_df['Date']) - pd.DateOffset(months=3)"
   ]
  },
  {
   "cell_type": "code",
   "execution_count": 60,
   "metadata": {},
   "outputs": [
    {
     "data": {
      "text/html": [
       "<div>\n",
       "<style scoped>\n",
       "    .dataframe tbody tr th:only-of-type {\n",
       "        vertical-align: middle;\n",
       "    }\n",
       "\n",
       "    .dataframe tbody tr th {\n",
       "        vertical-align: top;\n",
       "    }\n",
       "\n",
       "    .dataframe thead th {\n",
       "        text-align: right;\n",
       "    }\n",
       "</style>\n",
       "<table border=\"1\" class=\"dataframe\">\n",
       "  <thead>\n",
       "    <tr style=\"text-align: right;\">\n",
       "      <th></th>\n",
       "      <th>Date</th>\n",
       "      <th>Series</th>\n",
       "      <th>Median_Forecast</th>\n",
       "    </tr>\n",
       "  </thead>\n",
       "  <tbody>\n",
       "    <tr>\n",
       "      <th>0</th>\n",
       "      <td>1993-01-01</td>\n",
       "      <td>646</td>\n",
       "      <td>5523.252930</td>\n",
       "    </tr>\n",
       "    <tr>\n",
       "      <th>1</th>\n",
       "      <td>1993-04-01</td>\n",
       "      <td>646</td>\n",
       "      <td>5586.301758</td>\n",
       "    </tr>\n",
       "    <tr>\n",
       "      <th>2</th>\n",
       "      <td>1993-07-01</td>\n",
       "      <td>646</td>\n",
       "      <td>5551.783203</td>\n",
       "    </tr>\n",
       "    <tr>\n",
       "      <th>3</th>\n",
       "      <td>1993-10-01</td>\n",
       "      <td>646</td>\n",
       "      <td>5605.341797</td>\n",
       "    </tr>\n",
       "    <tr>\n",
       "      <th>4</th>\n",
       "      <td>1994-01-01</td>\n",
       "      <td>646</td>\n",
       "      <td>5482.976074</td>\n",
       "    </tr>\n",
       "    <tr>\n",
       "      <th>5</th>\n",
       "      <td>1994-04-01</td>\n",
       "      <td>646</td>\n",
       "      <td>5525.736328</td>\n",
       "    </tr>\n",
       "    <tr>\n",
       "      <th>6</th>\n",
       "      <td>1994-07-01</td>\n",
       "      <td>646</td>\n",
       "      <td>5495.833008</td>\n",
       "    </tr>\n",
       "    <tr>\n",
       "      <th>7</th>\n",
       "      <td>1994-10-01</td>\n",
       "      <td>646</td>\n",
       "      <td>5704.464355</td>\n",
       "    </tr>\n",
       "  </tbody>\n",
       "</table>\n",
       "</div>"
      ],
      "text/plain": [
       "        Date Series  Median_Forecast\n",
       "0 1993-01-01    646      5523.252930\n",
       "1 1993-04-01    646      5586.301758\n",
       "2 1993-07-01    646      5551.783203\n",
       "3 1993-10-01    646      5605.341797\n",
       "4 1994-01-01    646      5482.976074\n",
       "5 1994-04-01    646      5525.736328\n",
       "6 1994-07-01    646      5495.833008\n",
       "7 1994-10-01    646      5704.464355"
      ]
     },
     "execution_count": 60,
     "metadata": {},
     "output_type": "execute_result"
    }
   ],
   "source": [
    "complete_df.to_parquet('M3_moirai_quarter_forecasts.parquet', engine='pyarrow', compression='snappy', index=False)"
   ]
  }
 ],
 "metadata": {
  "kernelspec": {
   "display_name": "Python 3",
   "language": "python",
   "name": "python3"
  },
  "language_info": {
   "codemirror_mode": {
    "name": "ipython",
    "version": 3
   },
   "file_extension": ".py",
   "mimetype": "text/x-python",
   "name": "python",
   "nbconvert_exporter": "python",
   "pygments_lexer": "ipython3",
   "version": "3.11.4"
  }
 },
 "nbformat": 4,
 "nbformat_minor": 2
}
