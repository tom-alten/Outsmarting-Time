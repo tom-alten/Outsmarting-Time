{
 "cells": [
  {
   "cell_type": "markdown",
   "metadata": {},
   "source": [
    "### Config"
   ]
  },
  {
   "cell_type": "code",
   "execution_count": null,
   "metadata": {},
   "outputs": [],
   "source": [
    "import numpy as np\n",
    "import pandas as pd\n",
    "pd.set_option('display.max_columns', None)\n",
    "import warnings\n",
    "warnings.filterwarnings(\"ignore\", category=UserWarning)\n",
    "from huggingface_hub import hf_hub_download\n",
    "import torch\n",
    "from uni2ts.eval_util.plot import plot_single, plot_next_multi\n",
    "from uni2ts.model.moirai import MoiraiForecast\n",
    "from gluonts.dataset.pandas import PandasDataset\n",
    "from gluonts.dataset.split import split"
   ]
  },
  {
   "cell_type": "code",
   "execution_count": null,
   "metadata": {},
   "outputs": [],
   "source": [
    "SIZE = \"base\"  # model size\n",
    "PSZ = \"auto\"  # patch size\n",
    "BSZ = 32  # batch size"
   ]
  },
  {
   "cell_type": "code",
   "execution_count": null,
   "metadata": {},
   "outputs": [],
   "source": [
    "year = pd.read_parquet('/Users/tomaltenborg/Documents/Master/Master thesis/Notebooks/M3 Data/M3_yearly_processed.parquet')"
   ]
  },
  {
   "cell_type": "code",
   "execution_count": null,
   "metadata": {},
   "outputs": [],
   "source": [
    "# Initialize an empty DataFrame to store all forecasts\n",
    "complete_df = pd.DataFrame()\n",
    "\n",
    "counter = 0\n",
    "\n",
    "for series in year['Series'].unique():\n",
    "    \n",
    "    filtered_temp = year[year['Series'] == series]\n",
    "    N = filtered_temp['N'].iloc[0]\n",
    "    NF = filtered_temp['NF'].iloc[0]\n",
    "    \n",
    "    # Prepare the dataset, keeping only the first N-NF records for training\n",
    "    filtered_df = filtered_temp.iloc[:N-NF]\n",
    "    filtered_df = filtered_df[['Series', 'Date', 'Value']]\n",
    "\n",
    "    filtered_df['Date'] = pd.to_datetime(filtered_df['Date']) \n",
    "\n",
    "    # Set the 'date' column to year end\n",
    "    filtered_df['Date'] = filtered_df['Date'] + pd.offsets.YearEnd() #IMPORTANT has to be end, cannot be begining\n",
    "\n",
    "    filtered_df.set_index('Date', inplace=True)\n",
    "\n",
    "    # Convert into a GluonTS dataset\n",
    "    ds = PandasDataset.from_long_dataframe(filtered_df, item_id='Series', target='Value')\n",
    "\n",
    "    # Load and prepare the model\n",
    "    model = MoiraiForecast.load_from_checkpoint(\n",
    "        checkpoint_path=hf_hub_download(\n",
    "            repo_id=f\"Salesforce/moirai-1.0-R-{SIZE}\", filename=\"model.ckpt\"\n",
    "        ),\n",
    "        prediction_length=NF,\n",
    "        context_length=N,\n",
    "        patch_size=PSZ,\n",
    "        num_samples=20, #return 20 distributions for each time point\n",
    "        target_dim=1,\n",
    "        feat_dynamic_real_dim=ds.num_feat_dynamic_real,\n",
    "        past_feat_dynamic_real_dim=ds.num_past_feat_dynamic_real,\n",
    "        map_location=\"cuda:0\" if torch.cuda.is_available() else \"cpu\",\n",
    "    )\n",
    "\n",
    "    predictor = model.create_predictor(batch_size=BSZ)\n",
    "    forecasts = predictor.predict(ds)\n",
    "\n",
    "    counter += 1\n",
    "    # Handle forecast output\n",
    "    for forecast in forecasts:\n",
    "        samples = forecast.samples\n",
    "        item_id = forecast.item_id\n",
    "        start_date = pd.Period(forecast.start_date, freq=forecast.start_date.freq)\n",
    "        forecast_horizon = samples.shape[1]\n",
    "\n",
    "        # Create a date range for the forecasts\n",
    "        date_range = pd.period_range(start=start_date, periods=forecast_horizon, freq=start_date.freq)\n",
    "\n",
    "        # Calculate the median of the samples at each time point\n",
    "        medians = np.median(samples, axis=0)\n",
    "\n",
    "        # Create the DataFrame for current forecast\n",
    "        forecast_df = pd.DataFrame({\n",
    "            'Date': date_range,\n",
    "            'Series': item_id,\n",
    "            'Median_Forecast': medians\n",
    "        })\n",
    "\n",
    "        # Append to the complete DataFrame\n",
    "        complete_df = pd.concat([complete_df, forecast_df], ignore_index=True)\n",
    "    # Simple print statement to track progress    \n",
    "    if counter > 100:\n",
    "        print('Finished 100 forecasts')\n",
    "        counter = 0\n",
    "\n",
    "complete_df.reset_index(drop=True, inplace=True)"
   ]
  },
  {
   "cell_type": "code",
   "execution_count": null,
   "metadata": {},
   "outputs": [],
   "source": [
    "# Subtract one so that it is the same manner as TimeGPT and Chronos for comparison\n",
    "# Turn to proper dates again\n",
    "complete_df['Date'] = complete_df['Date'] - 1 \n",
    "complete_df['Date'] = pd.to_datetime(complete_df['Date'], format='%Y')\n",
    "complete_df['Date'] = complete_df['Date'].dt.to_period('Y').dt.start_time\n",
    "\n",
    "complete_df"
   ]
  },
  {
   "cell_type": "code",
   "execution_count": null,
   "metadata": {},
   "outputs": [],
   "source": [
    "complete_df.to_parquet('M3_moirai_year_forecasts.parquet', engine='pyarrow', compression='snappy', index=False)"
   ]
  }
 ],
 "metadata": {
  "kernelspec": {
   "display_name": "Python 3",
   "language": "python",
   "name": "python3"
  },
  "language_info": {
   "codemirror_mode": {
    "name": "ipython",
    "version": 3
   },
   "file_extension": ".py",
   "mimetype": "text/x-python",
   "name": "python",
   "nbconvert_exporter": "python",
   "pygments_lexer": "ipython3",
   "version": "3.11.4"
  }
 },
 "nbformat": 4,
 "nbformat_minor": 2
}
