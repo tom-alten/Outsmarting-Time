{
 "cells": [
  {
   "cell_type": "markdown",
   "metadata": {},
   "source": [
    "### Config"
   ]
  },
  {
   "cell_type": "code",
   "execution_count": 1,
   "metadata": {},
   "outputs": [],
   "source": [
    "import matplotlib.pyplot as plt\n",
    "import numpy as np\n",
    "import pandas as pd\n",
    "pd.set_option('display.max_columns', None)\n",
    "from huggingface_hub import hf_hub_download\n",
    "import torch\n",
    "from uni2ts.eval_util.plot import plot_single, plot_next_multi\n",
    "from uni2ts.model.moirai import MoiraiForecast\n",
    "from gluonts.dataset.pandas import PandasDataset\n",
    "from gluonts.dataset.split import split"
   ]
  },
  {
   "cell_type": "code",
   "execution_count": 28,
   "metadata": {},
   "outputs": [
    {
     "data": {
      "text/html": [
       "<div>\n",
       "<style scoped>\n",
       "    .dataframe tbody tr th:only-of-type {\n",
       "        vertical-align: middle;\n",
       "    }\n",
       "\n",
       "    .dataframe tbody tr th {\n",
       "        vertical-align: top;\n",
       "    }\n",
       "\n",
       "    .dataframe thead th {\n",
       "        text-align: right;\n",
       "    }\n",
       "</style>\n",
       "<table border=\"1\" class=\"dataframe\">\n",
       "  <thead>\n",
       "    <tr style=\"text-align: right;\">\n",
       "      <th></th>\n",
       "      <th>Series</th>\n",
       "      <th>N</th>\n",
       "      <th>NF</th>\n",
       "      <th>Category</th>\n",
       "      <th>Value</th>\n",
       "      <th>Date</th>\n",
       "    </tr>\n",
       "  </thead>\n",
       "  <tbody>\n",
       "    <tr>\n",
       "      <th>0</th>\n",
       "      <td>1</td>\n",
       "      <td>20</td>\n",
       "      <td>6</td>\n",
       "      <td>MICRO</td>\n",
       "      <td>940.66</td>\n",
       "      <td>1975-01-01</td>\n",
       "    </tr>\n",
       "    <tr>\n",
       "      <th>1</th>\n",
       "      <td>1</td>\n",
       "      <td>20</td>\n",
       "      <td>6</td>\n",
       "      <td>MICRO</td>\n",
       "      <td>1084.86</td>\n",
       "      <td>1976-01-01</td>\n",
       "    </tr>\n",
       "    <tr>\n",
       "      <th>2</th>\n",
       "      <td>1</td>\n",
       "      <td>20</td>\n",
       "      <td>6</td>\n",
       "      <td>MICRO</td>\n",
       "      <td>1244.98</td>\n",
       "      <td>1977-01-01</td>\n",
       "    </tr>\n",
       "    <tr>\n",
       "      <th>3</th>\n",
       "      <td>1</td>\n",
       "      <td>20</td>\n",
       "      <td>6</td>\n",
       "      <td>MICRO</td>\n",
       "      <td>1445.02</td>\n",
       "      <td>1978-01-01</td>\n",
       "    </tr>\n",
       "    <tr>\n",
       "      <th>4</th>\n",
       "      <td>1</td>\n",
       "      <td>20</td>\n",
       "      <td>6</td>\n",
       "      <td>MICRO</td>\n",
       "      <td>1683.17</td>\n",
       "      <td>1979-01-01</td>\n",
       "    </tr>\n",
       "    <tr>\n",
       "      <th>5</th>\n",
       "      <td>1</td>\n",
       "      <td>20</td>\n",
       "      <td>6</td>\n",
       "      <td>MICRO</td>\n",
       "      <td>2038.15</td>\n",
       "      <td>1980-01-01</td>\n",
       "    </tr>\n",
       "    <tr>\n",
       "      <th>6</th>\n",
       "      <td>1</td>\n",
       "      <td>20</td>\n",
       "      <td>6</td>\n",
       "      <td>MICRO</td>\n",
       "      <td>2342.52</td>\n",
       "      <td>1981-01-01</td>\n",
       "    </tr>\n",
       "    <tr>\n",
       "      <th>7</th>\n",
       "      <td>1</td>\n",
       "      <td>20</td>\n",
       "      <td>6</td>\n",
       "      <td>MICRO</td>\n",
       "      <td>2602.45</td>\n",
       "      <td>1982-01-01</td>\n",
       "    </tr>\n",
       "    <tr>\n",
       "      <th>8</th>\n",
       "      <td>1</td>\n",
       "      <td>20</td>\n",
       "      <td>6</td>\n",
       "      <td>MICRO</td>\n",
       "      <td>2927.87</td>\n",
       "      <td>1983-01-01</td>\n",
       "    </tr>\n",
       "    <tr>\n",
       "      <th>9</th>\n",
       "      <td>1</td>\n",
       "      <td>20</td>\n",
       "      <td>6</td>\n",
       "      <td>MICRO</td>\n",
       "      <td>3103.96</td>\n",
       "      <td>1984-01-01</td>\n",
       "    </tr>\n",
       "    <tr>\n",
       "      <th>10</th>\n",
       "      <td>1</td>\n",
       "      <td>20</td>\n",
       "      <td>6</td>\n",
       "      <td>MICRO</td>\n",
       "      <td>3360.27</td>\n",
       "      <td>1985-01-01</td>\n",
       "    </tr>\n",
       "    <tr>\n",
       "      <th>11</th>\n",
       "      <td>1</td>\n",
       "      <td>20</td>\n",
       "      <td>6</td>\n",
       "      <td>MICRO</td>\n",
       "      <td>3807.63</td>\n",
       "      <td>1986-01-01</td>\n",
       "    </tr>\n",
       "    <tr>\n",
       "      <th>12</th>\n",
       "      <td>1</td>\n",
       "      <td>20</td>\n",
       "      <td>6</td>\n",
       "      <td>MICRO</td>\n",
       "      <td>4387.88</td>\n",
       "      <td>1987-01-01</td>\n",
       "    </tr>\n",
       "    <tr>\n",
       "      <th>13</th>\n",
       "      <td>1</td>\n",
       "      <td>20</td>\n",
       "      <td>6</td>\n",
       "      <td>MICRO</td>\n",
       "      <td>4936.99</td>\n",
       "      <td>1988-01-01</td>\n",
       "    </tr>\n",
       "    <tr>\n",
       "      <th>14</th>\n",
       "      <td>1</td>\n",
       "      <td>20</td>\n",
       "      <td>6</td>\n",
       "      <td>MICRO</td>\n",
       "      <td>5379.75</td>\n",
       "      <td>1989-01-01</td>\n",
       "    </tr>\n",
       "    <tr>\n",
       "      <th>15</th>\n",
       "      <td>1</td>\n",
       "      <td>20</td>\n",
       "      <td>6</td>\n",
       "      <td>MICRO</td>\n",
       "      <td>6158.68</td>\n",
       "      <td>1990-01-01</td>\n",
       "    </tr>\n",
       "    <tr>\n",
       "      <th>16</th>\n",
       "      <td>1</td>\n",
       "      <td>20</td>\n",
       "      <td>6</td>\n",
       "      <td>MICRO</td>\n",
       "      <td>6876.58</td>\n",
       "      <td>1991-01-01</td>\n",
       "    </tr>\n",
       "    <tr>\n",
       "      <th>17</th>\n",
       "      <td>1</td>\n",
       "      <td>20</td>\n",
       "      <td>6</td>\n",
       "      <td>MICRO</td>\n",
       "      <td>7851.91</td>\n",
       "      <td>1992-01-01</td>\n",
       "    </tr>\n",
       "    <tr>\n",
       "      <th>18</th>\n",
       "      <td>1</td>\n",
       "      <td>20</td>\n",
       "      <td>6</td>\n",
       "      <td>MICRO</td>\n",
       "      <td>8407.84</td>\n",
       "      <td>1993-01-01</td>\n",
       "    </tr>\n",
       "    <tr>\n",
       "      <th>19</th>\n",
       "      <td>1</td>\n",
       "      <td>20</td>\n",
       "      <td>6</td>\n",
       "      <td>MICRO</td>\n",
       "      <td>9156.01</td>\n",
       "      <td>1994-01-01</td>\n",
       "    </tr>\n",
       "  </tbody>\n",
       "</table>\n",
       "</div>"
      ],
      "text/plain": [
       "    Series   N  NF      Category    Value       Date\n",
       "0        1  20   6  MICRO          940.66 1975-01-01\n",
       "1        1  20   6  MICRO         1084.86 1976-01-01\n",
       "2        1  20   6  MICRO         1244.98 1977-01-01\n",
       "3        1  20   6  MICRO         1445.02 1978-01-01\n",
       "4        1  20   6  MICRO         1683.17 1979-01-01\n",
       "5        1  20   6  MICRO         2038.15 1980-01-01\n",
       "6        1  20   6  MICRO         2342.52 1981-01-01\n",
       "7        1  20   6  MICRO         2602.45 1982-01-01\n",
       "8        1  20   6  MICRO         2927.87 1983-01-01\n",
       "9        1  20   6  MICRO         3103.96 1984-01-01\n",
       "10       1  20   6  MICRO         3360.27 1985-01-01\n",
       "11       1  20   6  MICRO         3807.63 1986-01-01\n",
       "12       1  20   6  MICRO         4387.88 1987-01-01\n",
       "13       1  20   6  MICRO         4936.99 1988-01-01\n",
       "14       1  20   6  MICRO         5379.75 1989-01-01\n",
       "15       1  20   6  MICRO         6158.68 1990-01-01\n",
       "16       1  20   6  MICRO         6876.58 1991-01-01\n",
       "17       1  20   6  MICRO         7851.91 1992-01-01\n",
       "18       1  20   6  MICRO         8407.84 1993-01-01\n",
       "19       1  20   6  MICRO         9156.01 1994-01-01"
      ]
     },
     "execution_count": 28,
     "metadata": {},
     "output_type": "execute_result"
    }
   ],
   "source": [
    "year = pd.read_parquet('/Users/tomaltenborg/Documents/Master/Master thesis/Notebooks/M3 Data/M3_yearly_processed.parquet')\n",
    "year = year[year['Series'] == 1]\n",
    "year"
   ]
  },
  {
   "cell_type": "markdown",
   "metadata": {},
   "source": [
    "### Test to see how the model functions"
   ]
  },
  {
   "cell_type": "code",
   "execution_count": 41,
   "metadata": {},
   "outputs": [],
   "source": [
    "# Parameters (you might need to adjust these)\n",
    "SIZE = \"small\"  # Choose from {'small', 'base', 'large'}\n",
    "PDT = 6  # Prediction length: set to the maximum NF in your data if it varies\n",
    "CTX = 200  # Context length: typically larger than PDT\n",
    "PSZ = \"auto\"  # Patch size\n",
    "BSZ = 1  # Batch size: 1 for simplicity in iterating forecasts"
   ]
  },
  {
   "cell_type": "code",
   "execution_count": 29,
   "metadata": {},
   "outputs": [],
   "source": [
    "def prepare_data(df):\n",
    "    train_data = {}\n",
    "    test_data = {}\n",
    "    \n",
    "    # Group by 'Series' and then create training and testing datasets\n",
    "    for series_id, group in df.groupby('Series'):\n",
    "        N = group['N'].iloc[0]  # Assuming all rows in a group have the same N\n",
    "        NF = group['NF'].iloc[0]  # Assuming all rows in a group have the same NF\n",
    "        \n",
    "        # Sorting by date to ensure correct temporal order\n",
    "        group = group.sort_values('Date')\n",
    "        \n",
    "        # Splitting the data\n",
    "        train_idx = N - NF\n",
    "        train_data[series_id] = group.iloc[:train_idx]\n",
    "        test_data[series_id] = group.iloc[train_idx:N]  # This should contain NF elements\n",
    "\n",
    "    return train_data, test_data\n",
    "\n",
    "# Prepare the datasets\n",
    "train_data, test_data = prepare_data(year)\n"
   ]
  },
  {
   "cell_type": "code",
   "execution_count": 31,
   "metadata": {},
   "outputs": [],
   "source": [
    "# Load the MOIRAI model\n",
    "# Updated script to load the model with additional required parameters\n",
    "model = MoiraiForecast.load_from_checkpoint(\n",
    "    checkpoint_path=model_checkpoint,\n",
    "    prediction_length=PDT,\n",
    "    context_length=CTX,\n",
    "    patch_size=PSZ,\n",
    "    num_samples=100,  # Number of sample paths for probabilistic forecasts\n",
    "    target_dim=1,  # Adjust this if your target variable has more than one dimension\n",
    "    feat_dynamic_real_dim=0,  # Adjust based on the number of dynamic real-valued features you have\n",
    "    past_feat_dynamic_real_dim=0,  # Adjust based on the number of past dynamic real-valued features you have\n",
    "    map_location=\"cuda:0\" if torch.cuda.is_available() else \"cpu\",  # Adjust depending on whether you're using a GPU\n",
    ")\n",
    "\n",
    "# Proceed with the rest of the script as previously discussed\n",
    "predictor = model.create_predictor(batch_size=BSZ)\n"
   ]
  },
  {
   "cell_type": "code",
   "execution_count": 32,
   "metadata": {},
   "outputs": [],
   "source": [
    "def forecast_series(predictor, train_data, test_data):\n",
    "    forecasts = {}\n",
    "    \n",
    "    for series_id, data in train_data.items():\n",
    "        # Assuming 'Value' column holds the time series values\n",
    "        test_input = data['Value'].values\n",
    "        forecast = predictor.predict(test_input)\n",
    "        forecasts[series_id] = forecast\n",
    "    \n",
    "    return forecasts\n",
    "\n",
    "# Generate forecasts\n",
    "forecasts = forecast_series(predictor, train_data, test_data)\n"
   ]
  },
  {
   "cell_type": "code",
   "execution_count": 42,
   "metadata": {},
   "outputs": [
    {
     "data": {
      "text/plain": [
       "1"
      ]
     },
     "execution_count": 42,
     "metadata": {},
     "output_type": "execute_result"
    }
   ],
   "source": [
    "test1 = iter(forecasts)\n",
    "test2 = next(test1)\n",
    "test2"
   ]
  },
  {
   "cell_type": "markdown",
   "metadata": {},
   "source": [
    "### From Salesforce GitHub"
   ]
  },
  {
   "cell_type": "code",
   "execution_count": 105,
   "metadata": {},
   "outputs": [],
   "source": [
    "year = pd.read_parquet('/Users/tomaltenborg/Documents/Master/Master thesis/Notebooks/M3 Data/M3_yearly_processed.parquet')\n",
    "year = year[['Series', 'Date', 'Value']]\n",
    "# year = year.loc[year['Series'] == 1]\n",
    "year.set_index('Date', inplace=True)"
   ]
  },
  {
   "cell_type": "code",
   "execution_count": 106,
   "metadata": {},
   "outputs": [],
   "source": [
    "# year = year.loc[year['Series'] == 1]\n",
    "# year"
   ]
  },
  {
   "cell_type": "code",
   "execution_count": 107,
   "metadata": {},
   "outputs": [],
   "source": [
    "# Convert into GluonTS dataset\n",
    "ds1 = PandasDataset.from_long_dataframe(year, target=\"Value\", item_id=\"Series\")"
   ]
  },
  {
   "cell_type": "code",
   "execution_count": 130,
   "metadata": {},
   "outputs": [],
   "source": [
    "# Parameters (you might need to adjust these)\n",
    "SIZE = \"base\"  # Choose from {'small', 'base', 'large'}\n",
    "PDT = 6  # Prediction length: set to the maximum NF in your data if it varies\n",
    "CTX = 50  # Context length: typically larger than PDT\n",
    "PSZ = \"auto\"  # Patch size\n",
    "BSZ = 1  # Batch size: 1 for simplicity in iterating forecasts"
   ]
  },
  {
   "cell_type": "code",
   "execution_count": 138,
   "metadata": {},
   "outputs": [],
   "source": [
    "year_try = year.loc[(year['Series'] == 1) & (year['Series'] == 2) & (year['Series'] == 3)]"
   ]
  },
  {
   "cell_type": "code",
   "execution_count": 139,
   "metadata": {},
   "outputs": [],
   "source": [
    "ls = []\n",
    "for series in year_try['Series'].unique():\n",
    "    # Prepare data\n",
    "    df = year_try.loc[year_try['Series'] == series]\n",
    "    # ds = PandasDataset.from_long_dataframe(df, target=\"Value\", item_id=\"Series\")\n",
    "    ds = PandasDataset(dict(df))\n",
    "    # Prepare model\n",
    "    model = MoiraiForecast.load_from_checkpoint(\n",
    "        checkpoint_path=hf_hub_download(\n",
    "            repo_id=f\"Salesforce/moirai-1.0-R-{SIZE}\", filename=\"model.ckpt\"\n",
    "        ),\n",
    "        prediction_length=PDT,\n",
    "        context_length=CTX,\n",
    "        patch_size=PSZ,\n",
    "        num_samples=15,\n",
    "        target_dim=1,\n",
    "        feat_dynamic_real_dim=ds.num_feat_dynamic_real,\n",
    "        past_feat_dynamic_real_dim=ds.num_past_feat_dynamic_real,\n",
    "        map_location=\"cuda:0\" if torch.cuda.is_available() else \"cpu\",\n",
    "    )\n",
    "\n",
    "    predictor = model.create_predictor(batch_size=BSZ)\n",
    "    forecasts = predictor.predict(ds.input)\n",
    "    print(series)\n",
    "    # input_it = iter(test_data.input)\n",
    "    # label_it = iter(test_data.label)\n",
    "    forecast_it = iter(forecasts)\n",
    "    forecast = next(forecast_it)\n",
    "    ls.append(forecast)"
   ]
  },
  {
   "cell_type": "code",
   "execution_count": 135,
   "metadata": {},
   "outputs": [
    {
     "data": {
      "text/plain": [
       "[]"
      ]
     },
     "execution_count": 135,
     "metadata": {},
     "output_type": "execute_result"
    }
   ],
   "source": [
    "ls"
   ]
  },
  {
   "cell_type": "code",
   "execution_count": 136,
   "metadata": {},
   "outputs": [
    {
     "name": "stdout",
     "output_type": "stream",
     "text": [
      "No more predictions.\n"
     ]
    }
   ],
   "source": [
    "try:\n",
    "    prediction = next(forecast_it)\n",
    "    print(prediction)\n",
    "except StopIteration:\n",
    "    print(\"No more predictions.\")\n"
   ]
  }
 ],
 "metadata": {
  "kernelspec": {
   "display_name": "Python 3",
   "language": "python",
   "name": "python3"
  },
  "language_info": {
   "codemirror_mode": {
    "name": "ipython",
    "version": 3
   },
   "file_extension": ".py",
   "mimetype": "text/x-python",
   "name": "python",
   "nbconvert_exporter": "python",
   "pygments_lexer": "ipython3",
   "version": "3.11.4"
  }
 },
 "nbformat": 4,
 "nbformat_minor": 2
}
