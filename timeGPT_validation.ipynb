{
 "cells": [
  {
   "cell_type": "markdown",
   "metadata": {},
   "source": [
    "#### Config"
   ]
  },
  {
   "cell_type": "code",
   "execution_count": 5,
   "metadata": {},
   "outputs": [
    {
     "name": "stderr",
     "output_type": "stream",
     "text": [
      "INFO:nixtlats.timegpt:Happy Forecasting! :), If you have questions or need support, please email ops@nixtla.io\n"
     ]
    },
    {
     "data": {
      "text/plain": [
       "True"
      ]
     },
     "execution_count": 5,
     "metadata": {},
     "output_type": "execute_result"
    }
   ],
   "source": [
    "from nixtlats import TimeGPT\n",
    "token = '0IEAIZ41DvUuDTmpjyYgPEdOwLsnoUbaW5z4uWZm0yi6yzTU1w2xiKQeuq0nyChGv1TLxG7scd3QqNSOxqUPFVqWizI0GMCpsMMmHmOjyrJRppyYyNeIRCBniD3J1BwsRGuSg3FPrK9hbihF5bMLTp3lpLmRK9QGGzKJwxhqFo3E31P9njLgUDbB5ViGzt45MvLeBExwVhHc5ZBV5aDjhZMd1JThvBp1iNKoMceIt84mes9yH5HxJxOI0t1YlvIi'\n",
    "\n",
    "timegpt = TimeGPT(token = token)\n",
    "\n",
    "timegpt.validate_token()"
   ]
  }
 ],
 "metadata": {
  "kernelspec": {
   "display_name": "base",
   "language": "python",
   "name": "python3"
  },
  "language_info": {
   "codemirror_mode": {
    "name": "ipython",
    "version": 3
   },
   "file_extension": ".py",
   "mimetype": "text/x-python",
   "name": "python",
   "nbconvert_exporter": "python",
   "pygments_lexer": "ipython3",
   "version": "3.11.4"
  }
 },
 "nbformat": 4,
 "nbformat_minor": 2
}
